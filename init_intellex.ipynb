{
 "cells": [
  {
   "cell_type": "code",
   "execution_count": 2,
   "metadata": {},
   "outputs": [],
   "source": [
    "# ! pip install python-dotenv"
   ]
  },
  {
   "cell_type": "code",
   "execution_count": 3,
   "metadata": {},
   "outputs": [],
   "source": [
    "from dotenv import load_dotenv\n",
    "import os\n",
    "\n",
    "load_dotenv()\n",
    "\n",
    "# Loading Credentials\n",
    "api_key = os.getenv(\"AZURE_OPENAI_API_KEY\")\n",
    "api_version = os.getenv(\"API_VERSION\")\n",
    "api_endpoint = os.getenv(\"AZURE_BASE_URL\")\n",
    "together_api = os.getenv(\"TOGETHER_API_KEY\")\n",
    "chat_model = os.getenv(\"CHAT_MODEL\")\n",
    "embedding_model = os.getenv(\"EMBEDDING_MODEL\")"
   ]
  },
  {
   "cell_type": "code",
   "execution_count": 12,
   "metadata": {},
   "outputs": [],
   "source": [
    "# ! pip install openai\n",
    "# ! pip install langchain langchain_community"
   ]
  },
  {
   "cell_type": "markdown",
   "metadata": {},
   "source": [
    "### Langchain model initialization"
   ]
  },
  {
   "cell_type": "code",
   "execution_count": 44,
   "metadata": {},
   "outputs": [],
   "source": [
    "from langchain.chat_models import AzureChatOpenAI\n",
    "\n",
    "\n",
    "llm = AzureChatOpenAI(\n",
    "    api_key=api_key, \n",
    "    model_name=chat_model,\n",
    "    api_version = api_version,\n",
    "    azure_endpoint = api_endpoint,\n",
    "    temperature=0\n",
    "    )"
   ]
  },
  {
   "cell_type": "code",
   "execution_count": 14,
   "metadata": {},
   "outputs": [],
   "source": [
    "''' \n",
    "Prompt Creation\n",
    "'''\n",
    "\n",
    "from langchain.prompts import PromptTemplate\n",
    "\n",
    "# Define a prompt template that instructs the model to analyze and expand on the topic\n",
    "research_prompt = PromptTemplate(\n",
    "    input_variables=[\"topic\"],\n",
    "    template=(\n",
    "        '''\n",
    "        You are a research assistant. The user has asked the following research question or provided this topic: '{topic}'.\n",
    "        Please analyze the topic, explain it back to the user, and suggest 4 additional related questions and ideas that could help expand the research. \n",
    "        Generate a list of 5 search queries (including the original one) or topics that could be helpful in researching about the topic.\n",
    "        ''' \n",
    "    )\n",
    ")\n"
   ]
  },
  {
   "cell_type": "code",
   "execution_count": 15,
   "metadata": {},
   "outputs": [
    {
     "name": "stderr",
     "output_type": "stream",
     "text": [
      "/tmp/ipykernel_27505/3597435984.py:5: LangChainDeprecationWarning: The class `LLMChain` was deprecated in LangChain 0.1.17 and will be removed in 1.0. Use :meth:`~RunnableSequence, e.g., `prompt | llm`` instead.\n",
      "  research_chain = LLMChain(\n"
     ]
    }
   ],
   "source": [
    "from langchain import LLMChain\n",
    "from langchain.chains import SimpleSequentialChain\n",
    "\n",
    "# Create an LLMChain using the defined prompt template\n",
    "research_chain = LLMChain(\n",
    "    llm=llm,\n",
    "    prompt=research_prompt\n",
    ")\n",
    "\n",
    "# Simple Sequential Chain to handle the processing\n",
    "sequential_chain = SimpleSequentialChain(\n",
    "    chains=[research_chain],\n",
    "    verbose=True\n",
    ")"
   ]
  },
  {
   "cell_type": "code",
   "execution_count": 16,
   "metadata": {},
   "outputs": [
    {
     "name": "stderr",
     "output_type": "stream",
     "text": [
      "/tmp/ipykernel_27505/4203453993.py:7: LangChainDeprecationWarning: The method `Chain.run` was deprecated in langchain 0.1.0 and will be removed in 1.0. Use :meth:`~invoke` instead.\n",
      "  response = sequential_chain.run(topic)\n"
     ]
    },
    {
     "name": "stdout",
     "output_type": "stream",
     "text": [
      "\n",
      "\n",
      "\u001b[1m> Entering new SimpleSequentialChain chain...\u001b[0m\n",
      "\u001b[36;1m\u001b[1;3m### Topic Analysis\n",
      "\n",
      "The topic \"The impact of climate change on polar bear populations\" focuses on understanding how the changing climate, particularly in the Arctic regions, affects polar bears, their habitats, and their overall survival. Climate change leads to rising temperatures, melting ice caps, and altered ecosystems, which directly impact polar bears, as they rely on sea ice for hunting seals, their primary food source. As the ice diminishes, polar bears may face challenges such as reduced access to food, increased competition, and changes in their breeding patterns. This topic is crucial for conservation efforts and understanding the broader implications of climate change on biodiversity.\n",
      "\n",
      "### Related Questions and Ideas\n",
      "\n",
      "1. **How does the melting Arctic ice affect the hunting behavior and diet of polar bears?**\n",
      "   - Investigating the specific changes in hunting patterns and dietary shifts due to ice loss.\n",
      "\n",
      "2. **What are the long-term population trends of polar bears in different Arctic regions?**\n",
      "   - Analyzing population data over time to identify trends and potential future scenarios.\n",
      "\n",
      "3. **How do climate change-induced changes in prey availability affect polar bear health and reproduction?**\n",
      "   - Exploring the relationship between prey dynamics and polar bear health metrics.\n",
      "\n",
      "4. **What conservation strategies are being implemented to protect polar bear populations from climate change?**\n",
      "   - Evaluating current conservation efforts and their effectiveness in mitigating the impacts of climate change.\n",
      "\n",
      "### Search Queries\n",
      "\n",
      "1. The impact of climate change on polar bear populations\n",
      "2. Polar bear habitat loss due to climate change\n",
      "3. Arctic ecosystem changes and polar bear survival\n",
      "4. Polar bear diet and hunting behavior in a warming climate\n",
      "5. Conservation strategies for polar bears in the face of climate change\n",
      "\n",
      "These queries and questions can help guide a comprehensive research approach to understanding the multifaceted impacts of climate change on polar bear populations and the broader Arctic ecosystem.\u001b[0m\n",
      "\n",
      "\u001b[1m> Finished chain.\u001b[0m\n",
      "### Topic Analysis\n",
      "\n",
      "The topic \"The impact of climate change on polar bear populations\" focuses on understanding how the changing climate, particularly in the Arctic regions, affects polar bears, their habitats, and their overall survival. Climate change leads to rising temperatures, melting ice caps, and altered ecosystems, which directly impact polar bears, as they rely on sea ice for hunting seals, their primary food source. As the ice diminishes, polar bears may face challenges such as reduced access to food, increased competition, and changes in their breeding patterns. This topic is crucial for conservation efforts and understanding the broader implications of climate change on biodiversity.\n",
      "\n",
      "### Related Questions and Ideas\n",
      "\n",
      "1. **How does the melting Arctic ice affect the hunting behavior and diet of polar bears?**\n",
      "   - Investigating the specific changes in hunting patterns and dietary shifts due to ice loss.\n",
      "\n",
      "2. **What are the long-term population trends of polar bears in different Arctic regions?**\n",
      "   - Analyzing population data over time to identify trends and potential future scenarios.\n",
      "\n",
      "3. **How do climate change-induced changes in prey availability affect polar bear health and reproduction?**\n",
      "   - Exploring the relationship between prey dynamics and polar bear health metrics.\n",
      "\n",
      "4. **What conservation strategies are being implemented to protect polar bear populations from climate change?**\n",
      "   - Evaluating current conservation efforts and their effectiveness in mitigating the impacts of climate change.\n",
      "\n",
      "### Search Queries\n",
      "\n",
      "1. The impact of climate change on polar bear populations\n",
      "2. Polar bear habitat loss due to climate change\n",
      "3. Arctic ecosystem changes and polar bear survival\n",
      "4. Polar bear diet and hunting behavior in a warming climate\n",
      "5. Conservation strategies for polar bears in the face of climate change\n",
      "\n",
      "These queries and questions can help guide a comprehensive research approach to understanding the multifaceted impacts of climate change on polar bear populations and the broader Arctic ecosystem.\n"
     ]
    }
   ],
   "source": [
    "''' \n",
    "Sample Generation : Testing our initializations\n",
    "'''\n",
    "\n",
    "def generate_research_insights(topic):\n",
    "    # Run the sequential chain with the provided topic\n",
    "    response = sequential_chain.run(topic)\n",
    "    return response\n",
    "\n",
    "# Example usage\n",
    "topic = \"The impact of climate change on polar bear populations\"\n",
    "result = generate_research_insights(topic)\n",
    "print(result)"
   ]
  },
  {
   "cell_type": "markdown",
   "metadata": {},
   "source": [
    "### We'll be using below resources to gather more information around our reserrch\n",
    "1. YouTube\n",
    "2. Semantic Scholar\n",
    "3. Web Articles and Blogs"
   ]
  },
  {
   "cell_type": "markdown",
   "metadata": {},
   "source": [
    "#### YouTube"
   ]
  },
  {
   "cell_type": "code",
   "execution_count": 21,
   "metadata": {},
   "outputs": [],
   "source": [
    "# ! pip install --upgrade youtube_search"
   ]
  },
  {
   "cell_type": "code",
   "execution_count": 22,
   "metadata": {},
   "outputs": [
    {
     "name": "stdout",
     "output_type": "stream",
     "text": [
      "\u001b[32;1m\u001b[1;3m['https://www.youtube.com/watch?v=0TXbUt1j6Mc&pp=ygU2VGhlIGltcGFjdCBvZiBjbGltYXRlIGNoYW5nZSBvbiBwb2xhciBiZWFyIHBvcHVsYXRpb25z0gcJCU8JAYcqIYzv', 'https://www.youtube.com/watch?v=V-YFOlwwe_g&pp=ygU2VGhlIGltcGFjdCBvZiBjbGltYXRlIGNoYW5nZSBvbiBwb2xhciBiZWFyIHBvcHVsYXRpb25z']\u001b[0m"
     ]
    },
    {
     "data": {
      "text/plain": [
       "\"['https://www.youtube.com/watch?v=0TXbUt1j6Mc&pp=ygU2VGhlIGltcGFjdCBvZiBjbGltYXRlIGNoYW5nZSBvbiBwb2xhciBiZWFyIHBvcHVsYXRpb25z0gcJCU8JAYcqIYzv', 'https://www.youtube.com/watch?v=V-YFOlwwe_g&pp=ygU2VGhlIGltcGFjdCBvZiBjbGltYXRlIGNoYW5nZSBvbiBwb2xhciBiZWFyIHBvcHVsYXRpb25z']\""
      ]
     },
     "execution_count": 22,
     "metadata": {},
     "output_type": "execute_result"
    }
   ],
   "source": [
    "from langchain_community.tools import YouTubeSearchTool # this library has Python function for searching for youtube videosss\n",
    "\n",
    "tool = YouTubeSearchTool()\n",
    "tool.run(topic, 5) # 5 is the number we want the tool to return us from the avaiable videos"
   ]
  },
  {
   "cell_type": "markdown",
   "metadata": {},
   "source": [
    "#### Wikipedia"
   ]
  },
  {
   "cell_type": "code",
   "execution_count": 24,
   "metadata": {},
   "outputs": [],
   "source": [
    "# ! pip install wikipedia\n",
    "# ! pip install xmltodict # formating the output"
   ]
  },
  {
   "cell_type": "code",
   "execution_count": 27,
   "metadata": {},
   "outputs": [
    {
     "data": {
      "text/plain": [
       "[Document(metadata={'title': 'Polar bear', 'summary': \"The polar bear (Ursus maritimus) is a large bear native to the Arctic and nearby areas. It is closely related to the brown bear, and the two species can interbreed. The polar bear is the largest extant species of bear and land carnivore, with adult males weighing 300–800 kg (660–1,760 lb). The species is sexually dimorphic, as adult females are much smaller. The polar bear is white- or yellowish-furred with black skin and a thick layer of fat. It is more slender than the brown bear, with a narrower skull, longer neck and lower shoulder hump. Its teeth are sharper and more adapted to cutting meat. The paws are large and allow the bear to walk on ice and paddle in the water.\\nPolar bears are both terrestrial and pagophilic (ice-living) and are considered marine mammals because of their dependence on marine ecosystems. They prefer the annual sea ice but live on land when the ice melts in the summer. They are mostly carnivorous and specialized for preying on seals, particularly ringed seals. Such prey is typically taken by ambush; the bear may stalk its prey on the ice or in the water, but also will stay at a breathing hole or ice edge to wait for prey to swim by. The bear primarily feeds on the seal's energy-rich blubber. Other prey include walruses, beluga whales and some terrestrial animals. Polar bears are usually solitary but can be found in groups when on land. During the breeding season, male bears guard females and defend them from rivals. Mothers give birth to cubs in maternity dens during the winter. Young stay with their mother for up to two and a half years.\\nThe polar bear is considered a vulnerable species by the International Union for Conservation of Nature (IUCN) with an estimated total population of 22,000 to 31,000 individuals. Its biggest threats are climate change, pollution and energy development. Climate change has caused a decline in sea ice, giving the polar bear less access to its favoured prey and increasing the risk of malnutrition and starvation. Less sea ice also means that the bears must spend more time on land, increasing conflicts with humans. Polar bears have been hunted, both by native and non-native peoples, for their coats, meat and other items. They have been kept in captivity in zoos and circuses and are prevalent in art, folklore, religion and modern culture.\\n\\n\", 'source': 'https://en.wikipedia.org/wiki/Polar_bear'}, page_content='The polar bear (Ursus maritimus) is a large bear native to the Arctic and nearby areas. It is closely related to the brown bear, and the two species can interbreed. The polar bear is the largest extant species of bear and land carnivore, with adult males weighing 300–800 kg (660–1,760 lb). The species is sexually dimorphic, as adult females are much smaller. The polar bear is white- or yellowish-furred with black skin and a thick layer of fat. It is more slender than the brown bear, with a narrower skull, longer neck and lower shoulder hump. Its teeth are sharper and more adapted to cutting meat. The paws are large and allow the bear to walk on ice and paddle in the water.\\nPolar bears are both terrestrial and pagophilic (ice-living) and are considered marine mammals because of their dependence on marine ecosystems. They prefer the annual sea ice but live on land when the ice melts in the summer. They are mostly carnivorous and specialized for preying on seals, particularly ringed seals. Such prey is typically taken by ambush; the bear may stalk its prey on the ice or in the water, but also will stay at a breathing hole or ice edge to wait for prey to swim by. The bear primarily feeds on the seal\\'s energy-rich blubber. Other prey include walruses, beluga whales and some terrestrial animals. Polar bears are usually solitary but can be found in groups when on land. During the breeding season, male bears guard females and defend them from rivals. Mothers give birth to cubs in maternity dens during the winter. Young stay with their mother for up to two and a half years.\\nThe polar bear is considered a vulnerable species by the International Union for Conservation of Nature (IUCN) with an estimated total population of 22,000 to 31,000 individuals. Its biggest threats are climate change, pollution and energy development. Climate change has caused a decline in sea ice, giving the polar bear less access to its favoured prey and increasing the risk of malnutrition and starvation. Less sea ice also means that the bears must spend more time on land, increasing conflicts with humans. Polar bears have been hunted, both by native and non-native peoples, for their coats, meat and other items. They have been kept in captivity in zoos and circuses and are prevalent in art, folklore, religion and modern culture.\\n\\n\\n== Naming ==\\nThe polar bear was given its common name by Thomas Pennant in A Synopsis of Quadrupeds (1771). It was known as the \"white bear\" in Europe between the 13th and 18th centuries, as well as \"ice bear\", \"sea bear\" and \"Greenland bear\". The Norse referred to it as isbjørn \\'ice bear\\' and hvitebjørn \\'white bear\\'. The bear is called nanook by the Inuit. The Netsilik cultures additionally have different names for bears based on certain factors, such as sex and age: these include adult males (anguraq), single adult females (tattaq), gestating females (arnaluk), newborns (hagliaqtug), large adolescents (namiaq) and dormant bears (apitiliit). The scientific name Ursus maritimus is Latin for \\'sea bear\\'.\\n\\n\\n== Taxonomy ==\\nCarl Linnaeus classified the polar bear as a type of brown bear (Ursus arctos), labelling it as Ursus maritimus albus-major, arcticus (\\'mostly-white sea bear, arctic\\') in the 1758 edition of his work Systema Naturae. Constantine John Phipps formally described the polar bear as a distinct species, Ursus maritimus in 1774, following his 1773 voyage towards the North Pole. Because of its adaptations to a marine environment, some taxonomists, such as Theodore Knottnerus-Meyer, have placed the polar bear in its own genus, Thalarctos. However Ursus is widely considered to be the valid genus for the species on the basis of the fossil record and the fact that it can breed with the brown bear.\\nDifferent subspecies have been proposed including Ursus maritimus maritimus and U. m. marinus. However, these are not supported, and the polar bear is considered to be monotypic. One possible fossil subspecies, U. m. tyrannus, was posited in'),\n",
       " Document(metadata={'title': 'Climate change', 'summary': 'Present-day climate change includes both global warming—the ongoing increase in global average temperature—and its wider effects on Earth’s climate system. Climate change in a broader sense also includes previous long-term changes to Earth\\'s climate. The current rise in global temperatures is driven by human activities, especially fossil fuel burning since the Industrial Revolution. Fossil fuel use, deforestation, and some agricultural and industrial practices release greenhouse gases. These gases absorb some of the heat that the Earth radiates after it warms from sunlight, warming the lower atmosphere. Carbon dioxide, the primary gas driving global warming, has increased in concentration by about 50% since the pre-industrial era to levels not seen for millions of years.\\nClimate change has an increasingly large impact on the environment. Deserts are expanding, while heat waves and wildfires are becoming more common. Amplified warming in the Arctic has contributed to thawing permafrost, retreat of glaciers and sea ice decline. Higher temperatures are also causing more intense storms, droughts, and other weather extremes. Rapid environmental change in mountains, coral reefs, and the Arctic is forcing many species to relocate or become extinct. Even if efforts to minimize future warming are successful, some effects will continue for centuries. These include ocean heating, ocean acidification and sea level rise.\\nClimate change threatens people with increased flooding, extreme heat, increased food and water scarcity, more disease, and economic loss. Human migration and conflict can also be a result. The World Health Organization calls climate change one of the biggest threats to global health in the 21st century. Societies and ecosystems will experience more severe risks without action to limit warming. Adapting to climate change through efforts like flood control measures or drought-resistant crops partially reduces climate change risks, although some limits to adaptation have already been reached. Poorer communities are responsible for a small share of global emissions, yet have the least ability to adapt and are most vulnerable to climate change.\\n\\nMany climate change impacts have been observed in the first decades of the 21st century, with 2024 the warmest on record at +1.60 °C (2.88 °F) since regular tracking began in 1850. Additional warming will increase these impacts and can trigger tipping points, such as melting all of the Greenland ice sheet. Under the 2015 Paris Agreement, nations collectively agreed to keep warming \"well under 2 °C\". However, with pledges made under the Agreement, global warming would still reach about 2.8 °C (5.0 °F) by the end of the century. Limiting warming to 1.5 °C would require halving emissions by 2030 and achieving net-zero emissions by 2050.\\nFossil fuel use can be phased out by conserving energy and switching to energy sources that do not produce significant carbon pollution. These energy sources include wind, solar, hydro, and nuclear power. Cleanly generated electricity can replace fossil fuels for powering transportation, heating buildings, and running industrial processes. Carbon can also be removed from the atmosphere, for instance by increasing forest cover and farming with methods that capture carbon in soil.\\n\\n', 'source': 'https://en.wikipedia.org/wiki/Climate_change'}, page_content='Present-day climate change includes both global warming—the ongoing increase in global average temperature—and its wider effects on Earth’s climate system. Climate change in a broader sense also includes previous long-term changes to Earth\\'s climate. The current rise in global temperatures is driven by human activities, especially fossil fuel burning since the Industrial Revolution. Fossil fuel use, deforestation, and some agricultural and industrial practices release greenhouse gases. These gases absorb some of the heat that the Earth radiates after it warms from sunlight, warming the lower atmosphere. Carbon dioxide, the primary gas driving global warming, has increased in concentration by about 50% since the pre-industrial era to levels not seen for millions of years.\\nClimate change has an increasingly large impact on the environment. Deserts are expanding, while heat waves and wildfires are becoming more common. Amplified warming in the Arctic has contributed to thawing permafrost, retreat of glaciers and sea ice decline. Higher temperatures are also causing more intense storms, droughts, and other weather extremes. Rapid environmental change in mountains, coral reefs, and the Arctic is forcing many species to relocate or become extinct. Even if efforts to minimize future warming are successful, some effects will continue for centuries. These include ocean heating, ocean acidification and sea level rise.\\nClimate change threatens people with increased flooding, extreme heat, increased food and water scarcity, more disease, and economic loss. Human migration and conflict can also be a result. The World Health Organization calls climate change one of the biggest threats to global health in the 21st century. Societies and ecosystems will experience more severe risks without action to limit warming. Adapting to climate change through efforts like flood control measures or drought-resistant crops partially reduces climate change risks, although some limits to adaptation have already been reached. Poorer communities are responsible for a small share of global emissions, yet have the least ability to adapt and are most vulnerable to climate change.\\n\\nMany climate change impacts have been observed in the first decades of the 21st century, with 2024 the warmest on record at +1.60 °C (2.88 °F) since regular tracking began in 1850. Additional warming will increase these impacts and can trigger tipping points, such as melting all of the Greenland ice sheet. Under the 2015 Paris Agreement, nations collectively agreed to keep warming \"well under 2 °C\". However, with pledges made under the Agreement, global warming would still reach about 2.8 °C (5.0 °F) by the end of the century. Limiting warming to 1.5 °C would require halving emissions by 2030 and achieving net-zero emissions by 2050.\\nFossil fuel use can be phased out by conserving energy and switching to energy sources that do not produce significant carbon pollution. These energy sources include wind, solar, hydro, and nuclear power. Cleanly generated electricity can replace fossil fuels for powering transportation, heating buildings, and running industrial processes. Carbon can also be removed from the atmosphere, for instance by increasing forest cover and farming with methods that capture carbon in soil.\\n\\n\\n== Terminology ==\\nBefore the 1980s it was unclear whether the warming effect of increased greenhouse gases was stronger than the cooling effect of airborne particulates in air pollution. Scientists used the term inadvertent climate modification to refer to human impacts on the climate at this time. In the 1980s, the terms global warming and climate change became more common, often being used interchangeably. Scientifically, global warming refers only to increased surface warming, while climate change describes both global warming and its effects on Earth\\'s climate system, such as precipitation changes.\\nClimate change can also be used more broadly to include changes to the climate'),\n",
       " Document(metadata={'title': 'Kodiak bear', 'summary': 'The Kodiak bear (Ursus arctos middendorffi), also known as the Kodiak brown bear and sometimes the Alaskan brown bear, inhabits the islands of the Kodiak Archipelago in southwest Alaska. It is one of the largest recognized subspecies or population of the brown bear, and one of the two largest bears alive today, the other being the polar bear. They are also considered by some to be a population of grizzly bears.\\nPhysiologically and physically, the Kodiak bear is very similar to the other brown bear subspecies, such as the mainland grizzly bear (Ursus arctos horribilis) and the extinct California grizzly bear (U. a. californicus), with the main difference being size, as Kodiak bears are on average 1.5 to 2 times larger than their cousins. Despite this large variation in size, the diet and lifestyle of the Kodiak bear do not differ greatly from those of other brown bears.\\nKodiak bears have interacted with humans for centuries, especially hunters and other people in the rural coastal regions of the archipelago. The bears are hunted for sport and are encountered by hunters pursuing other species. Less frequently, Kodiak bears are killed by people whose property (such as livestock) or person are threatened. In recent history there has been an increasing focus on conservation and protection of the Kodiak bear population as human activity in its range increases. The IUCN classifies the brown bear (Ursus arctos), of which the Kodiak is a subspecies, as being of \"least concern\" in terms of endangerment or extinction, though the IUCN does not differentiate between subspecies and thus does not provide a conservation status for the Kodiak population. The Alaska Department of Fish and Game however, along with the United States Fish and Wildlife Service to a lesser extent, closely monitor the size and health of the population and the number of bears hunted in the state.', 'source': 'https://en.wikipedia.org/wiki/Kodiak_bear'}, page_content='The Kodiak bear (Ursus arctos middendorffi), also known as the Kodiak brown bear and sometimes the Alaskan brown bear, inhabits the islands of the Kodiak Archipelago in southwest Alaska. It is one of the largest recognized subspecies or population of the brown bear, and one of the two largest bears alive today, the other being the polar bear. They are also considered by some to be a population of grizzly bears.\\nPhysiologically and physically, the Kodiak bear is very similar to the other brown bear subspecies, such as the mainland grizzly bear (Ursus arctos horribilis) and the extinct California grizzly bear (U. a. californicus), with the main difference being size, as Kodiak bears are on average 1.5 to 2 times larger than their cousins. Despite this large variation in size, the diet and lifestyle of the Kodiak bear do not differ greatly from those of other brown bears.\\nKodiak bears have interacted with humans for centuries, especially hunters and other people in the rural coastal regions of the archipelago. The bears are hunted for sport and are encountered by hunters pursuing other species. Less frequently, Kodiak bears are killed by people whose property (such as livestock) or person are threatened. In recent history there has been an increasing focus on conservation and protection of the Kodiak bear population as human activity in its range increases. The IUCN classifies the brown bear (Ursus arctos), of which the Kodiak is a subspecies, as being of \"least concern\" in terms of endangerment or extinction, though the IUCN does not differentiate between subspecies and thus does not provide a conservation status for the Kodiak population. The Alaska Department of Fish and Game however, along with the United States Fish and Wildlife Service to a lesser extent, closely monitor the size and health of the population and the number of bears hunted in the state.\\n\\n\\n== Description ==\\n\\n\\n=== Taxonomy ===\\nTaxonomist C.H. Merriam was the first to recognize the Kodiak bear as a unique subspecies of the brown bear, and he named it \"Ursus middendorffi\" in honor of the celebrated Baltic naturalist, Dr. A. Th. von Middendorff. Subsequent taxonomic work merged all North American brown bears into a single species (Ursus arctos). \\nGenetic samples from bears on Kodiak have shown that they are most closely related to brown bears on the Alaska Peninsula and Kamchatka, Russia, and all brown bears roughly north of the US. Kodiak bears have been genetically isolated since at least the last ice age (10,000 to 12,000 years ago) and very little genetic diversity exists within the population. Although the current population is healthy, productive, and has shown no overt adverse signs of inbreeding, it may be more susceptible to new diseases or parasites than other, more diverse brown bear populations.\\n\\n\\n=== Color ===\\nHair colors range from pale blonde to orange (typically females or bears from southern parts of the archipelago) to dark brown. Cubs will often retain a white \"natal ring\" around their neck for the first few years of life. The Kodiak bear\\'s color is similar to that of its close relatives, the mainland American Grizzly bear and Eurasian brown bears.\\n\\n\\n=== Size ===\\n\\nWhile there is generally much variation in size between brown bears in different areas, most usually weigh between 115 and 360 kg (254 and 794 lb); the Kodiak bear illustrates island gigantism, commonly reaching sizes of 300 to 600 kg (660 to 1,320 lb). The size range for females (sows) is from 181 to 318 kg (399 to 701 lb), and for males (boars), it is 272 to 635 kg (600 to 1,400 lb). Mature males average 477–534 kg (1,052–1,177 lb) over the course of the year, and can weigh up to 680 kg (1,500 lb) at peak times. Females are typically about 20% smaller and 30% lighter than males, and adult sizes are attained when they are six years old. Bears weigh the least when they emerge from their dens in the spring, and can increase their weight by 20–30% during late summer and autumn. As with ')]"
      ]
     },
     "execution_count": 27,
     "metadata": {},
     "output_type": "execute_result"
    }
   ],
   "source": [
    "''' \n",
    "Using only Wikipedia retriever\n",
    "'''\n",
    "from langchain_community.retrievers import WikipediaRetriever\n",
    "\n",
    "# retriever cell\n",
    "retriever = WikipediaRetriever()\n",
    "retriever.invoke(topic)"
   ]
  },
  {
   "cell_type": "code",
   "execution_count": null,
   "metadata": {},
   "outputs": [],
   "source": [
    "''' \n",
    "Using Agents to retrieve relevant information from Wikipedia\n",
    "'''\n",
    "from langchain.agents import AgentType, initialize_agent\n",
    "from langchain.agents import load_tools\n",
    "\n",
    "# Wikipedia tool agent\n",
    "tools = load_tools(\n",
    "                    [\"wikipedia\"], \n",
    "                    llm=llm\n",
    "                    )\n",
    "\n",
    "agent= initialize_agent(\n",
    "    tools,\n",
    "    llm,\n",
    "    agent=AgentType.CHAT_ZERO_SHOT_REACT_DESCRIPTION,\n",
    "    handle_parsing_errors=True,\n",
    "    verbose = True)\n",
    "\n",
    "agent(topic)"
   ]
  },
  {
   "cell_type": "markdown",
   "metadata": {},
   "source": [
    "#### Semantic Scholar\n",
    "Semantic Scholar uses natural language and machine learning to find relevant results across all disciplines, including biology, medicine, computer science, geography, business, history, and economics. It includes a scientific literature graph and billions of citations, and its corpus contains nearly 200 million academic papers from publisher partnerships, data providers, and web crawls."
   ]
  },
  {
   "cell_type": "code",
   "execution_count": null,
   "metadata": {},
   "outputs": [],
   "source": [
    "# ! pip install --upgrade --quiet  semanticscholar"
   ]
  },
  {
   "cell_type": "code",
   "execution_count": 38,
   "metadata": {},
   "outputs": [],
   "source": [
    "from langchain_community.tools.semanticscholar.tool import SemanticScholarQueryRun\n",
    "from langchain_community.utilities.semanticscholar import SemanticScholarAPIWrapper\n",
    "\n",
    "api_wrapper = SemanticScholarAPIWrapper(doc_content_chars_max=1000, top_k_results=5)\n",
    "tools = [SemanticScholarQueryRun(api_wrapper=api_wrapper)]"
   ]
  },
  {
   "cell_type": "code",
   "execution_count": 45,
   "metadata": {},
   "outputs": [],
   "source": [
    "''' \n",
    "Here for Semantic Scholar we're creating a Prompt to retrive more contectual information. In above case for Wikipedia we've not created any prompt if you check in tools.\n",
    "'''\n",
    "\n",
    "from langchain.agents import AgentExecutor, create_tool_calling_agent\n",
    "from langchain_core.prompts import ChatPromptTemplate, MessagesPlaceholder\n",
    "\n",
    "prompt = ChatPromptTemplate.from_messages(\n",
    "    [\n",
    "        (\n",
    "            \"system\",\n",
    "            \"You are an expert researcher.\",\n",
    "        ),\n",
    "        (\"human\", \"{input}\"),\n",
    "        MessagesPlaceholder(variable_name=\"agent_scratchpad\")\n",
    "    ]\n",
    ")\n",
    "\n",
    "\n",
    "agent_executor = initialize_agent(\n",
    "    tools=tools,\n",
    "    llm=llm,\n",
    "    agent=AgentType.OPENAI_MULTI_FUNCTIONS,\n",
    "    prompt=prompt,\n",
    "    verbose=True\n",
    ")"
   ]
  },
  {
   "cell_type": "code",
   "execution_count": 46,
   "metadata": {},
   "outputs": [
    {
     "name": "stdout",
     "output_type": "stream",
     "text": [
      "\n",
      "\n",
      "\u001b[1m> Entering new AgentExecutor chain...\u001b[0m\n",
      "\u001b[32;1m\u001b[1;3m\n",
      "Invoking: `semanticscholar` with `{'query': 'The impact of climate change on polar bear populations'}`\n",
      "\n",
      "\n",
      "\u001b[0m\u001b[36;1m\u001b[1;3mPublished year: 2016\n",
      "Title: Modelling the Impact of Climate Change on the Polar Bear Population in Western Hudson Bay\n",
      "Authors: Nicole Bastow\n",
      "Abstract: None\n",
      "\u001b[0m\u001b[32;1m\u001b[1;3m\n",
      "Invoking: `semanticscholar` with `{'query': 'The impact of climate change on polar bear populations'}`\n",
      "\n",
      "\n",
      "\u001b[0m\u001b[36;1m\u001b[1;3mPublished year: 2016\n",
      "Title: Modelling the Impact of Climate Change on the Polar Bear Population in Western Hudson Bay\n",
      "Authors: Nicole Bastow\n",
      "Abstract: None\n",
      "\u001b[0m\u001b[32;1m\u001b[1;3mI found a relevant paper on the impact of climate change on polar bear populations. Here are the details:\n",
      "\n",
      "### 1. List of Papers\n",
      "- **Title**: Modelling the Impact of Climate Change on the Polar Bear Population in Western Hudson Bay\n",
      "- **Authors**: Nicole Bastow\n",
      "- **Published Year**: 2016\n",
      "- **URL**: [Link to Paper](https://www.semanticscholar.org/paper/Modelling-the-Impact-of-Climate-Change-on-the-Bastow/)\n",
      "\n",
      "### 2. Summary of the Paper\n",
      "The paper discusses the modeling of the polar bear population in Western Hudson Bay in the context of climate change. It likely examines how changing environmental conditions, particularly the loss of sea ice due to warming temperatures, affect polar bear demographics, behavior, and survival rates. The study may utilize various ecological and statistical models to predict future population trends under different climate scenarios.\n",
      "\n",
      "### 3. Citations in the Paper\n",
      "Unfortunately, the specific citations used in this paper are not provided in the information retrieved. Typically, citations would include references to previous research on polar bear ecology, climate change impacts, and modeling techniques.\n",
      "\n",
      "If you need more papers or specific details, please let me know!\u001b[0m\n",
      "\n",
      "\u001b[1m> Finished chain.\u001b[0m\n"
     ]
    }
   ],
   "source": [
    "response = agent_executor.invoke(\n",
    "    {\n",
    "        \"input\": f\"\"\"query: {topic}, for each of the relevant paper that you find :Create 3 different sections: List of papers with url for it, summary of that paper and citations in that paper, do this for each paper   \"\"\"\n",
    "    }\n",
    ")"
   ]
  },
  {
   "cell_type": "markdown",
   "metadata": {},
   "source": [
    "#### Playwright Browser\n",
    "\n",
    "- Web Scraping: Automatically extract data from web pages, such as product prices, reviews, or contact information.\n",
    "- Web Testing: Automate testing of web applications by simulating user interactions and verifying expected outcomes.\n",
    "- Research: Gather information from various websites on a specific topic and summarize the findings.\n",
    "- Personal Automation: Automate tasks that involve interacting with web applications, such as checking email, managing social media, or booking appointments."
   ]
  },
  {
   "cell_type": "code",
   "execution_count": 53,
   "metadata": {},
   "outputs": [
    {
     "data": {
      "text/plain": [
       "' \\nInstall below using Terminal\\n'"
      ]
     },
     "execution_count": 53,
     "metadata": {},
     "output_type": "execute_result"
    }
   ],
   "source": [
    "''' \n",
    "Install below using Terminal\n",
    "'''\n",
    "\n",
    "# ! pip install playwright beautifulsoup4\n",
    "# ! playwright install"
   ]
  },
  {
   "cell_type": "code",
   "execution_count": 72,
   "metadata": {},
   "outputs": [],
   "source": [
    "from langchain_community.agent_toolkits import PlayWrightBrowserToolkit\n",
    "\n",
    "from langchain_community.tools.playwright.utils import (\n",
    "    create_async_playwright_browser,  # A synchronous browser is available, though it isn't compatible with jupyter.\\n\",      },\n",
    ")\n",
    "import nest_asyncio\n",
    "\n",
    "nest_asyncio.apply()"
   ]
  },
  {
   "cell_type": "code",
   "execution_count": 73,
   "metadata": {},
   "outputs": [
    {
     "ename": "PydanticUserError",
     "evalue": "`PlayWrightBrowserToolkit` is not fully defined; you should define `SyncBrowser`, then call `PlayWrightBrowserToolkit.model_rebuild()`.\n\nFor further information visit https://errors.pydantic.dev/2.10/u/class-not-fully-defined",
     "output_type": "error",
     "traceback": [
      "\u001b[31m---------------------------------------------------------------------------\u001b[39m",
      "\u001b[31mPydanticUserError\u001b[39m                         Traceback (most recent call last)",
      "\u001b[36mCell\u001b[39m\u001b[36m \u001b[39m\u001b[32mIn[73]\u001b[39m\u001b[32m, line 2\u001b[39m\n\u001b[32m      1\u001b[39m async_browser = create_async_playwright_browser()\n\u001b[32m----> \u001b[39m\u001b[32m2\u001b[39m toolkit = \u001b[43mPlayWrightBrowserToolkit\u001b[49m\u001b[43m.\u001b[49m\u001b[43mfrom_browser\u001b[49m\u001b[43m(\u001b[49m\u001b[43masync_browser\u001b[49m\u001b[43m=\u001b[49m\u001b[43masync_browser\u001b[49m\u001b[43m)\u001b[49m\n\u001b[32m      3\u001b[39m tools = toolkit.get_tools()\n\u001b[32m      4\u001b[39m tools\n",
      "\u001b[36mFile \u001b[39m\u001b[32m~/Documents/MS/Project/Intellex/.venv/lib/python3.12/site-packages/langchain_community/agent_toolkits/playwright/toolkit.py:122\u001b[39m, in \u001b[36mPlayWrightBrowserToolkit.from_browser\u001b[39m\u001b[34m(cls, sync_browser, async_browser)\u001b[39m\n\u001b[32m    120\u001b[39m \u001b[38;5;66;03m# This is to raise a better error than the forward ref ones Pydantic would have\u001b[39;00m\n\u001b[32m    121\u001b[39m lazy_import_playwright_browsers()\n\u001b[32m--> \u001b[39m\u001b[32m122\u001b[39m \u001b[38;5;28;01mreturn\u001b[39;00m \u001b[38;5;28;43mcls\u001b[39;49m\u001b[43m(\u001b[49m\u001b[43msync_browser\u001b[49m\u001b[43m=\u001b[49m\u001b[43msync_browser\u001b[49m\u001b[43m,\u001b[49m\u001b[43m \u001b[49m\u001b[43masync_browser\u001b[49m\u001b[43m=\u001b[49m\u001b[43masync_browser\u001b[49m\u001b[43m)\u001b[49m\n",
      "    \u001b[31m[... skipping hidden 1 frame]\u001b[39m\n",
      "\u001b[36mFile \u001b[39m\u001b[32m~/Documents/MS/Project/Intellex/.venv/lib/python3.12/site-packages/pydantic/_internal/_mock_val_ser.py:100\u001b[39m, in \u001b[36mMockValSer.__getattr__\u001b[39m\u001b[34m(self, item)\u001b[39m\n\u001b[32m     98\u001b[39m \u001b[38;5;66;03m# raise an AttributeError if `item` doesn't exist\u001b[39;00m\n\u001b[32m     99\u001b[39m \u001b[38;5;28mgetattr\u001b[39m(\u001b[38;5;28mself\u001b[39m._val_or_ser, item)\n\u001b[32m--> \u001b[39m\u001b[32m100\u001b[39m \u001b[38;5;28;01mraise\u001b[39;00m PydanticUserError(\u001b[38;5;28mself\u001b[39m._error_message, code=\u001b[38;5;28mself\u001b[39m._code)\n",
      "\u001b[31mPydanticUserError\u001b[39m: `PlayWrightBrowserToolkit` is not fully defined; you should define `SyncBrowser`, then call `PlayWrightBrowserToolkit.model_rebuild()`.\n\nFor further information visit https://errors.pydantic.dev/2.10/u/class-not-fully-defined"
     ]
    }
   ],
   "source": [
    "async_browser = create_async_playwright_browser()\n",
    "toolkit = PlayWrightBrowserToolkit.from_browser(async_browser=async_browser)\n",
    "tools = toolkit.get_tools()\n",
    "tools"
   ]
  },
  {
   "cell_type": "code",
   "execution_count": null,
   "metadata": {},
   "outputs": [],
   "source": []
  }
 ],
 "metadata": {
  "kernelspec": {
   "display_name": ".venv",
   "language": "python",
   "name": "python3"
  },
  "language_info": {
   "codemirror_mode": {
    "name": "ipython",
    "version": 3
   },
   "file_extension": ".py",
   "mimetype": "text/x-python",
   "name": "python",
   "nbconvert_exporter": "python",
   "pygments_lexer": "ipython3",
   "version": "3.12.3"
  }
 },
 "nbformat": 4,
 "nbformat_minor": 2
}
