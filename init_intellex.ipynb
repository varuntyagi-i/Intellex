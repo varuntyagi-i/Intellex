{
 "cells": [
  {
   "cell_type": "code",
   "execution_count": 2,
   "metadata": {},
   "outputs": [],
   "source": [
    "# ! pip install python-dotenv"
   ]
  },
  {
   "cell_type": "code",
   "execution_count": 6,
   "metadata": {},
   "outputs": [],
   "source": [
    "from dotenv import load_dotenv\n",
    "import os\n",
    "\n",
    "load_dotenv()\n",
    "\n",
    "# Loading Credentials\n",
    "api_key = os.getenv(\"AZURE_OPENAI_API_KEY\")\n",
    "api_version = os.getenv(\"API_VERSION\")\n",
    "api_endpoint = os.getenv(\"AZURE_BASE_URL\")\n",
    "together_api = os.getenv(\"TOGETHER_API_KEY\")\n",
    "chat_model = os.getenv(\"CHAT_MODEL\")\n",
    "embedding_model = os.getenv(\"EMBEDDING_MODEL\")"
   ]
  },
  {
   "cell_type": "code",
   "execution_count": 7,
   "metadata": {},
   "outputs": [],
   "source": [
    "# ! pip install openai\n",
    "# ! pip install langchain langchain_community"
   ]
  },
  {
   "cell_type": "markdown",
   "metadata": {},
   "source": [
    "### Langchain model initialization"
   ]
  },
  {
   "cell_type": "code",
   "execution_count": 8,
   "metadata": {},
   "outputs": [
    {
     "name": "stderr",
     "output_type": "stream",
     "text": [
      "/tmp/ipykernel_4890/1300644453.py:4: LangChainDeprecationWarning: The class `AzureChatOpenAI` was deprecated in LangChain 0.0.10 and will be removed in 1.0. An updated version of the class exists in the :class:`~langchain-openai package and should be used instead. To use it run `pip install -U :class:`~langchain-openai` and import as `from :class:`~langchain_openai import AzureChatOpenAI``.\n",
      "  llm = AzureChatOpenAI(\n"
     ]
    }
   ],
   "source": [
    "from langchain.chat_models import AzureChatOpenAI\n",
    "\n",
    "\n",
    "llm = AzureChatOpenAI(\n",
    "    api_key=api_key, \n",
    "    model_name=chat_model,\n",
    "    api_version = api_version,\n",
    "    azure_endpoint = api_endpoint,\n",
    "    temperature=0\n",
    "    )"
   ]
  },
  {
   "cell_type": "code",
   "execution_count": 29,
   "metadata": {},
   "outputs": [],
   "source": [
    "''' \n",
    "Prompt Creation\n",
    "'''\n",
    "\n",
    "from langchain.prompts import PromptTemplate\n",
    "\n",
    "# Define a prompt template that instructs the model to analyze and expand on the topic\n",
    "research_prompt = PromptTemplate(\n",
    "    input_variables=[\"topic\"],\n",
    "    template=(\n",
    "        '''\n",
    "        You are a research assistant. The user has asked the following research question or provided this topic: '{topic}'.\n",
    "        Please analyze the topic, explain it back to the user, and suggest 4 additional related questions and ideas that could help expand the research. \n",
    "        Generate a list of 5 search queries (including the original one) or topics that could be helpful in researching about the topic.\n",
    "        ''' \n",
    "    )\n",
    ")\n"
   ]
  },
  {
   "cell_type": "code",
   "execution_count": 30,
   "metadata": {},
   "outputs": [
    {
     "name": "stderr",
     "output_type": "stream",
     "text": [
      "/tmp/ipykernel_4890/3597435984.py:5: LangChainDeprecationWarning: The class `LLMChain` was deprecated in LangChain 0.1.17 and will be removed in 1.0. Use :meth:`~RunnableSequence, e.g., `prompt | llm`` instead.\n",
      "  research_chain = LLMChain(\n"
     ]
    }
   ],
   "source": [
    "from langchain import LLMChain\n",
    "from langchain.chains import SimpleSequentialChain\n",
    "\n",
    "# Create an LLMChain using the defined prompt template\n",
    "research_chain = LLMChain(\n",
    "    llm=llm,\n",
    "    prompt=research_prompt\n",
    ")\n",
    "\n",
    "# Simple Sequential Chain to handle the processing\n",
    "sequential_chain = SimpleSequentialChain(\n",
    "    chains=[research_chain],\n",
    "    verbose=True\n",
    ")"
   ]
  },
  {
   "cell_type": "code",
   "execution_count": 11,
   "metadata": {},
   "outputs": [],
   "source": [
    "topic = \"The impact of climate change on polar bear populations\""
   ]
  },
  {
   "cell_type": "code",
   "execution_count": null,
   "metadata": {},
   "outputs": [
    {
     "name": "stderr",
     "output_type": "stream",
     "text": [
      "/tmp/ipykernel_27505/4203453993.py:7: LangChainDeprecationWarning: The method `Chain.run` was deprecated in langchain 0.1.0 and will be removed in 1.0. Use :meth:`~invoke` instead.\n",
      "  response = sequential_chain.run(topic)\n"
     ]
    },
    {
     "name": "stdout",
     "output_type": "stream",
     "text": [
      "\n",
      "\n",
      "\u001b[1m> Entering new SimpleSequentialChain chain...\u001b[0m\n",
      "\u001b[36;1m\u001b[1;3m### Topic Analysis\n",
      "\n",
      "The topic \"The impact of climate change on polar bear populations\" focuses on understanding how the changing climate, particularly in the Arctic regions, affects polar bears, their habitats, and their overall survival. Climate change leads to rising temperatures, melting ice caps, and altered ecosystems, which directly impact polar bears, as they rely on sea ice for hunting seals, their primary food source. As the ice diminishes, polar bears may face challenges such as reduced access to food, increased competition, and changes in their breeding patterns. This topic is crucial for conservation efforts and understanding the broader implications of climate change on biodiversity.\n",
      "\n",
      "### Related Questions and Ideas\n",
      "\n",
      "1. **How does the melting Arctic ice affect the hunting behavior and diet of polar bears?**\n",
      "   - Investigating the specific changes in hunting patterns and dietary shifts due to ice loss.\n",
      "\n",
      "2. **What are the long-term population trends of polar bears in different Arctic regions?**\n",
      "   - Analyzing population data over time to identify trends and potential future scenarios.\n",
      "\n",
      "3. **How do climate change-induced changes in prey availability affect polar bear health and reproduction?**\n",
      "   - Exploring the relationship between prey dynamics and polar bear health metrics.\n",
      "\n",
      "4. **What conservation strategies are being implemented to protect polar bear populations from climate change?**\n",
      "   - Evaluating current conservation efforts and their effectiveness in mitigating the impacts of climate change.\n",
      "\n",
      "### Search Queries\n",
      "\n",
      "1. The impact of climate change on polar bear populations\n",
      "2. Polar bear habitat loss due to climate change\n",
      "3. Arctic ecosystem changes and polar bear survival\n",
      "4. Polar bear diet and hunting behavior in a warming climate\n",
      "5. Conservation strategies for polar bears in the face of climate change\n",
      "\n",
      "These queries and questions can help guide a comprehensive research approach to understanding the multifaceted impacts of climate change on polar bear populations and the broader Arctic ecosystem.\u001b[0m\n",
      "\n",
      "\u001b[1m> Finished chain.\u001b[0m\n",
      "### Topic Analysis\n",
      "\n",
      "The topic \"The impact of climate change on polar bear populations\" focuses on understanding how the changing climate, particularly in the Arctic regions, affects polar bears, their habitats, and their overall survival. Climate change leads to rising temperatures, melting ice caps, and altered ecosystems, which directly impact polar bears, as they rely on sea ice for hunting seals, their primary food source. As the ice diminishes, polar bears may face challenges such as reduced access to food, increased competition, and changes in their breeding patterns. This topic is crucial for conservation efforts and understanding the broader implications of climate change on biodiversity.\n",
      "\n",
      "### Related Questions and Ideas\n",
      "\n",
      "1. **How does the melting Arctic ice affect the hunting behavior and diet of polar bears?**\n",
      "   - Investigating the specific changes in hunting patterns and dietary shifts due to ice loss.\n",
      "\n",
      "2. **What are the long-term population trends of polar bears in different Arctic regions?**\n",
      "   - Analyzing population data over time to identify trends and potential future scenarios.\n",
      "\n",
      "3. **How do climate change-induced changes in prey availability affect polar bear health and reproduction?**\n",
      "   - Exploring the relationship between prey dynamics and polar bear health metrics.\n",
      "\n",
      "4. **What conservation strategies are being implemented to protect polar bear populations from climate change?**\n",
      "   - Evaluating current conservation efforts and their effectiveness in mitigating the impacts of climate change.\n",
      "\n",
      "### Search Queries\n",
      "\n",
      "1. The impact of climate change on polar bear populations\n",
      "2. Polar bear habitat loss due to climate change\n",
      "3. Arctic ecosystem changes and polar bear survival\n",
      "4. Polar bear diet and hunting behavior in a warming climate\n",
      "5. Conservation strategies for polar bears in the face of climate change\n",
      "\n",
      "These queries and questions can help guide a comprehensive research approach to understanding the multifaceted impacts of climate change on polar bear populations and the broader Arctic ecosystem.\n"
     ]
    }
   ],
   "source": [
    "''' \n",
    "Sample Generation : Testing our initializations\n",
    "'''\n",
    "\n",
    "def generate_research_insights(topic):\n",
    "    # Run the sequential chain with the provided topic\n",
    "    response = sequential_chain.run(topic)\n",
    "    return response\n",
    "\n",
    "# Example usage\n",
    "result = generate_research_insights(topic)\n",
    "print(result)"
   ]
  },
  {
   "cell_type": "markdown",
   "metadata": {},
   "source": [
    "### We'll be using below resources to gather more information around our reserrch\n",
    "1. YouTube\n",
    "2. Semantic Scholar\n",
    "3. Web Articles and Blogs"
   ]
  },
  {
   "cell_type": "markdown",
   "metadata": {},
   "source": [
    "#### YouTube"
   ]
  },
  {
   "cell_type": "code",
   "execution_count": 21,
   "metadata": {},
   "outputs": [],
   "source": [
    "# ! pip install --upgrade youtube_search"
   ]
  },
  {
   "cell_type": "code",
   "execution_count": 22,
   "metadata": {},
   "outputs": [
    {
     "name": "stdout",
     "output_type": "stream",
     "text": [
      "\u001b[32;1m\u001b[1;3m['https://www.youtube.com/watch?v=0TXbUt1j6Mc&pp=ygU2VGhlIGltcGFjdCBvZiBjbGltYXRlIGNoYW5nZSBvbiBwb2xhciBiZWFyIHBvcHVsYXRpb25z0gcJCU8JAYcqIYzv', 'https://www.youtube.com/watch?v=V-YFOlwwe_g&pp=ygU2VGhlIGltcGFjdCBvZiBjbGltYXRlIGNoYW5nZSBvbiBwb2xhciBiZWFyIHBvcHVsYXRpb25z']\u001b[0m"
     ]
    },
    {
     "data": {
      "text/plain": [
       "\"['https://www.youtube.com/watch?v=0TXbUt1j6Mc&pp=ygU2VGhlIGltcGFjdCBvZiBjbGltYXRlIGNoYW5nZSBvbiBwb2xhciBiZWFyIHBvcHVsYXRpb25z0gcJCU8JAYcqIYzv', 'https://www.youtube.com/watch?v=V-YFOlwwe_g&pp=ygU2VGhlIGltcGFjdCBvZiBjbGltYXRlIGNoYW5nZSBvbiBwb2xhciBiZWFyIHBvcHVsYXRpb25z']\""
      ]
     },
     "execution_count": 22,
     "metadata": {},
     "output_type": "execute_result"
    }
   ],
   "source": [
    "from langchain_community.tools import YouTubeSearchTool # this library has Python function for searching for youtube videosss\n",
    "\n",
    "tool = YouTubeSearchTool()\n",
    "tool.run(topic, 5) # 5 is the number we want the tool to return us from the avaiable videos"
   ]
  },
  {
   "cell_type": "markdown",
   "metadata": {},
   "source": [
    "#### Wikipedia"
   ]
  },
  {
   "cell_type": "code",
   "execution_count": 24,
   "metadata": {},
   "outputs": [],
   "source": [
    "# ! pip install wikipedia\n",
    "# ! pip install xmltodict # formating the output"
   ]
  },
  {
   "cell_type": "code",
   "execution_count": 27,
   "metadata": {},
   "outputs": [
    {
     "data": {
      "text/plain": [
       "[Document(metadata={'title': 'Polar bear', 'summary': \"The polar bear (Ursus maritimus) is a large bear native to the Arctic and nearby areas. It is closely related to the brown bear, and the two species can interbreed. The polar bear is the largest extant species of bear and land carnivore, with adult males weighing 300–800 kg (660–1,760 lb). The species is sexually dimorphic, as adult females are much smaller. The polar bear is white- or yellowish-furred with black skin and a thick layer of fat. It is more slender than the brown bear, with a narrower skull, longer neck and lower shoulder hump. Its teeth are sharper and more adapted to cutting meat. The paws are large and allow the bear to walk on ice and paddle in the water.\\nPolar bears are both terrestrial and pagophilic (ice-living) and are considered marine mammals because of their dependence on marine ecosystems. They prefer the annual sea ice but live on land when the ice melts in the summer. They are mostly carnivorous and specialized for preying on seals, particularly ringed seals. Such prey is typically taken by ambush; the bear may stalk its prey on the ice or in the water, but also will stay at a breathing hole or ice edge to wait for prey to swim by. The bear primarily feeds on the seal's energy-rich blubber. Other prey include walruses, beluga whales and some terrestrial animals. Polar bears are usually solitary but can be found in groups when on land. During the breeding season, male bears guard females and defend them from rivals. Mothers give birth to cubs in maternity dens during the winter. Young stay with their mother for up to two and a half years.\\nThe polar bear is considered a vulnerable species by the International Union for Conservation of Nature (IUCN) with an estimated total population of 22,000 to 31,000 individuals. Its biggest threats are climate change, pollution and energy development. Climate change has caused a decline in sea ice, giving the polar bear less access to its favoured prey and increasing the risk of malnutrition and starvation. Less sea ice also means that the bears must spend more time on land, increasing conflicts with humans. Polar bears have been hunted, both by native and non-native peoples, for their coats, meat and other items. They have been kept in captivity in zoos and circuses and are prevalent in art, folklore, religion and modern culture.\\n\\n\", 'source': 'https://en.wikipedia.org/wiki/Polar_bear'}, page_content='The polar bear (Ursus maritimus) is a large bear native to the Arctic and nearby areas. It is closely related to the brown bear, and the two species can interbreed. The polar bear is the largest extant species of bear and land carnivore, with adult males weighing 300–800 kg (660–1,760 lb). The species is sexually dimorphic, as adult females are much smaller. The polar bear is white- or yellowish-furred with black skin and a thick layer of fat. It is more slender than the brown bear, with a narrower skull, longer neck and lower shoulder hump. Its teeth are sharper and more adapted to cutting meat. The paws are large and allow the bear to walk on ice and paddle in the water.\\nPolar bears are both terrestrial and pagophilic (ice-living) and are considered marine mammals because of their dependence on marine ecosystems. They prefer the annual sea ice but live on land when the ice melts in the summer. They are mostly carnivorous and specialized for preying on seals, particularly ringed seals. Such prey is typically taken by ambush; the bear may stalk its prey on the ice or in the water, but also will stay at a breathing hole or ice edge to wait for prey to swim by. The bear primarily feeds on the seal\\'s energy-rich blubber. Other prey include walruses, beluga whales and some terrestrial animals. Polar bears are usually solitary but can be found in groups when on land. During the breeding season, male bears guard females and defend them from rivals. Mothers give birth to cubs in maternity dens during the winter. Young stay with their mother for up to two and a half years.\\nThe polar bear is considered a vulnerable species by the International Union for Conservation of Nature (IUCN) with an estimated total population of 22,000 to 31,000 individuals. Its biggest threats are climate change, pollution and energy development. Climate change has caused a decline in sea ice, giving the polar bear less access to its favoured prey and increasing the risk of malnutrition and starvation. Less sea ice also means that the bears must spend more time on land, increasing conflicts with humans. Polar bears have been hunted, both by native and non-native peoples, for their coats, meat and other items. They have been kept in captivity in zoos and circuses and are prevalent in art, folklore, religion and modern culture.\\n\\n\\n== Naming ==\\nThe polar bear was given its common name by Thomas Pennant in A Synopsis of Quadrupeds (1771). It was known as the \"white bear\" in Europe between the 13th and 18th centuries, as well as \"ice bear\", \"sea bear\" and \"Greenland bear\". The Norse referred to it as isbjørn \\'ice bear\\' and hvitebjørn \\'white bear\\'. The bear is called nanook by the Inuit. The Netsilik cultures additionally have different names for bears based on certain factors, such as sex and age: these include adult males (anguraq), single adult females (tattaq), gestating females (arnaluk), newborns (hagliaqtug), large adolescents (namiaq) and dormant bears (apitiliit). The scientific name Ursus maritimus is Latin for \\'sea bear\\'.\\n\\n\\n== Taxonomy ==\\nCarl Linnaeus classified the polar bear as a type of brown bear (Ursus arctos), labelling it as Ursus maritimus albus-major, arcticus (\\'mostly-white sea bear, arctic\\') in the 1758 edition of his work Systema Naturae. Constantine John Phipps formally described the polar bear as a distinct species, Ursus maritimus in 1774, following his 1773 voyage towards the North Pole. Because of its adaptations to a marine environment, some taxonomists, such as Theodore Knottnerus-Meyer, have placed the polar bear in its own genus, Thalarctos. However Ursus is widely considered to be the valid genus for the species on the basis of the fossil record and the fact that it can breed with the brown bear.\\nDifferent subspecies have been proposed including Ursus maritimus maritimus and U. m. marinus. However, these are not supported, and the polar bear is considered to be monotypic. One possible fossil subspecies, U. m. tyrannus, was posited in'),\n",
       " Document(metadata={'title': 'Climate change', 'summary': 'Present-day climate change includes both global warming—the ongoing increase in global average temperature—and its wider effects on Earth’s climate system. Climate change in a broader sense also includes previous long-term changes to Earth\\'s climate. The current rise in global temperatures is driven by human activities, especially fossil fuel burning since the Industrial Revolution. Fossil fuel use, deforestation, and some agricultural and industrial practices release greenhouse gases. These gases absorb some of the heat that the Earth radiates after it warms from sunlight, warming the lower atmosphere. Carbon dioxide, the primary gas driving global warming, has increased in concentration by about 50% since the pre-industrial era to levels not seen for millions of years.\\nClimate change has an increasingly large impact on the environment. Deserts are expanding, while heat waves and wildfires are becoming more common. Amplified warming in the Arctic has contributed to thawing permafrost, retreat of glaciers and sea ice decline. Higher temperatures are also causing more intense storms, droughts, and other weather extremes. Rapid environmental change in mountains, coral reefs, and the Arctic is forcing many species to relocate or become extinct. Even if efforts to minimize future warming are successful, some effects will continue for centuries. These include ocean heating, ocean acidification and sea level rise.\\nClimate change threatens people with increased flooding, extreme heat, increased food and water scarcity, more disease, and economic loss. Human migration and conflict can also be a result. The World Health Organization calls climate change one of the biggest threats to global health in the 21st century. Societies and ecosystems will experience more severe risks without action to limit warming. Adapting to climate change through efforts like flood control measures or drought-resistant crops partially reduces climate change risks, although some limits to adaptation have already been reached. Poorer communities are responsible for a small share of global emissions, yet have the least ability to adapt and are most vulnerable to climate change.\\n\\nMany climate change impacts have been observed in the first decades of the 21st century, with 2024 the warmest on record at +1.60 °C (2.88 °F) since regular tracking began in 1850. Additional warming will increase these impacts and can trigger tipping points, such as melting all of the Greenland ice sheet. Under the 2015 Paris Agreement, nations collectively agreed to keep warming \"well under 2 °C\". However, with pledges made under the Agreement, global warming would still reach about 2.8 °C (5.0 °F) by the end of the century. Limiting warming to 1.5 °C would require halving emissions by 2030 and achieving net-zero emissions by 2050.\\nFossil fuel use can be phased out by conserving energy and switching to energy sources that do not produce significant carbon pollution. These energy sources include wind, solar, hydro, and nuclear power. Cleanly generated electricity can replace fossil fuels for powering transportation, heating buildings, and running industrial processes. Carbon can also be removed from the atmosphere, for instance by increasing forest cover and farming with methods that capture carbon in soil.\\n\\n', 'source': 'https://en.wikipedia.org/wiki/Climate_change'}, page_content='Present-day climate change includes both global warming—the ongoing increase in global average temperature—and its wider effects on Earth’s climate system. Climate change in a broader sense also includes previous long-term changes to Earth\\'s climate. The current rise in global temperatures is driven by human activities, especially fossil fuel burning since the Industrial Revolution. Fossil fuel use, deforestation, and some agricultural and industrial practices release greenhouse gases. These gases absorb some of the heat that the Earth radiates after it warms from sunlight, warming the lower atmosphere. Carbon dioxide, the primary gas driving global warming, has increased in concentration by about 50% since the pre-industrial era to levels not seen for millions of years.\\nClimate change has an increasingly large impact on the environment. Deserts are expanding, while heat waves and wildfires are becoming more common. Amplified warming in the Arctic has contributed to thawing permafrost, retreat of glaciers and sea ice decline. Higher temperatures are also causing more intense storms, droughts, and other weather extremes. Rapid environmental change in mountains, coral reefs, and the Arctic is forcing many species to relocate or become extinct. Even if efforts to minimize future warming are successful, some effects will continue for centuries. These include ocean heating, ocean acidification and sea level rise.\\nClimate change threatens people with increased flooding, extreme heat, increased food and water scarcity, more disease, and economic loss. Human migration and conflict can also be a result. The World Health Organization calls climate change one of the biggest threats to global health in the 21st century. Societies and ecosystems will experience more severe risks without action to limit warming. Adapting to climate change through efforts like flood control measures or drought-resistant crops partially reduces climate change risks, although some limits to adaptation have already been reached. Poorer communities are responsible for a small share of global emissions, yet have the least ability to adapt and are most vulnerable to climate change.\\n\\nMany climate change impacts have been observed in the first decades of the 21st century, with 2024 the warmest on record at +1.60 °C (2.88 °F) since regular tracking began in 1850. Additional warming will increase these impacts and can trigger tipping points, such as melting all of the Greenland ice sheet. Under the 2015 Paris Agreement, nations collectively agreed to keep warming \"well under 2 °C\". However, with pledges made under the Agreement, global warming would still reach about 2.8 °C (5.0 °F) by the end of the century. Limiting warming to 1.5 °C would require halving emissions by 2030 and achieving net-zero emissions by 2050.\\nFossil fuel use can be phased out by conserving energy and switching to energy sources that do not produce significant carbon pollution. These energy sources include wind, solar, hydro, and nuclear power. Cleanly generated electricity can replace fossil fuels for powering transportation, heating buildings, and running industrial processes. Carbon can also be removed from the atmosphere, for instance by increasing forest cover and farming with methods that capture carbon in soil.\\n\\n\\n== Terminology ==\\nBefore the 1980s it was unclear whether the warming effect of increased greenhouse gases was stronger than the cooling effect of airborne particulates in air pollution. Scientists used the term inadvertent climate modification to refer to human impacts on the climate at this time. In the 1980s, the terms global warming and climate change became more common, often being used interchangeably. Scientifically, global warming refers only to increased surface warming, while climate change describes both global warming and its effects on Earth\\'s climate system, such as precipitation changes.\\nClimate change can also be used more broadly to include changes to the climate'),\n",
       " Document(metadata={'title': 'Kodiak bear', 'summary': 'The Kodiak bear (Ursus arctos middendorffi), also known as the Kodiak brown bear and sometimes the Alaskan brown bear, inhabits the islands of the Kodiak Archipelago in southwest Alaska. It is one of the largest recognized subspecies or population of the brown bear, and one of the two largest bears alive today, the other being the polar bear. They are also considered by some to be a population of grizzly bears.\\nPhysiologically and physically, the Kodiak bear is very similar to the other brown bear subspecies, such as the mainland grizzly bear (Ursus arctos horribilis) and the extinct California grizzly bear (U. a. californicus), with the main difference being size, as Kodiak bears are on average 1.5 to 2 times larger than their cousins. Despite this large variation in size, the diet and lifestyle of the Kodiak bear do not differ greatly from those of other brown bears.\\nKodiak bears have interacted with humans for centuries, especially hunters and other people in the rural coastal regions of the archipelago. The bears are hunted for sport and are encountered by hunters pursuing other species. Less frequently, Kodiak bears are killed by people whose property (such as livestock) or person are threatened. In recent history there has been an increasing focus on conservation and protection of the Kodiak bear population as human activity in its range increases. The IUCN classifies the brown bear (Ursus arctos), of which the Kodiak is a subspecies, as being of \"least concern\" in terms of endangerment or extinction, though the IUCN does not differentiate between subspecies and thus does not provide a conservation status for the Kodiak population. The Alaska Department of Fish and Game however, along with the United States Fish and Wildlife Service to a lesser extent, closely monitor the size and health of the population and the number of bears hunted in the state.', 'source': 'https://en.wikipedia.org/wiki/Kodiak_bear'}, page_content='The Kodiak bear (Ursus arctos middendorffi), also known as the Kodiak brown bear and sometimes the Alaskan brown bear, inhabits the islands of the Kodiak Archipelago in southwest Alaska. It is one of the largest recognized subspecies or population of the brown bear, and one of the two largest bears alive today, the other being the polar bear. They are also considered by some to be a population of grizzly bears.\\nPhysiologically and physically, the Kodiak bear is very similar to the other brown bear subspecies, such as the mainland grizzly bear (Ursus arctos horribilis) and the extinct California grizzly bear (U. a. californicus), with the main difference being size, as Kodiak bears are on average 1.5 to 2 times larger than their cousins. Despite this large variation in size, the diet and lifestyle of the Kodiak bear do not differ greatly from those of other brown bears.\\nKodiak bears have interacted with humans for centuries, especially hunters and other people in the rural coastal regions of the archipelago. The bears are hunted for sport and are encountered by hunters pursuing other species. Less frequently, Kodiak bears are killed by people whose property (such as livestock) or person are threatened. In recent history there has been an increasing focus on conservation and protection of the Kodiak bear population as human activity in its range increases. The IUCN classifies the brown bear (Ursus arctos), of which the Kodiak is a subspecies, as being of \"least concern\" in terms of endangerment or extinction, though the IUCN does not differentiate between subspecies and thus does not provide a conservation status for the Kodiak population. The Alaska Department of Fish and Game however, along with the United States Fish and Wildlife Service to a lesser extent, closely monitor the size and health of the population and the number of bears hunted in the state.\\n\\n\\n== Description ==\\n\\n\\n=== Taxonomy ===\\nTaxonomist C.H. Merriam was the first to recognize the Kodiak bear as a unique subspecies of the brown bear, and he named it \"Ursus middendorffi\" in honor of the celebrated Baltic naturalist, Dr. A. Th. von Middendorff. Subsequent taxonomic work merged all North American brown bears into a single species (Ursus arctos). \\nGenetic samples from bears on Kodiak have shown that they are most closely related to brown bears on the Alaska Peninsula and Kamchatka, Russia, and all brown bears roughly north of the US. Kodiak bears have been genetically isolated since at least the last ice age (10,000 to 12,000 years ago) and very little genetic diversity exists within the population. Although the current population is healthy, productive, and has shown no overt adverse signs of inbreeding, it may be more susceptible to new diseases or parasites than other, more diverse brown bear populations.\\n\\n\\n=== Color ===\\nHair colors range from pale blonde to orange (typically females or bears from southern parts of the archipelago) to dark brown. Cubs will often retain a white \"natal ring\" around their neck for the first few years of life. The Kodiak bear\\'s color is similar to that of its close relatives, the mainland American Grizzly bear and Eurasian brown bears.\\n\\n\\n=== Size ===\\n\\nWhile there is generally much variation in size between brown bears in different areas, most usually weigh between 115 and 360 kg (254 and 794 lb); the Kodiak bear illustrates island gigantism, commonly reaching sizes of 300 to 600 kg (660 to 1,320 lb). The size range for females (sows) is from 181 to 318 kg (399 to 701 lb), and for males (boars), it is 272 to 635 kg (600 to 1,400 lb). Mature males average 477–534 kg (1,052–1,177 lb) over the course of the year, and can weigh up to 680 kg (1,500 lb) at peak times. Females are typically about 20% smaller and 30% lighter than males, and adult sizes are attained when they are six years old. Bears weigh the least when they emerge from their dens in the spring, and can increase their weight by 20–30% during late summer and autumn. As with ')]"
      ]
     },
     "execution_count": 27,
     "metadata": {},
     "output_type": "execute_result"
    }
   ],
   "source": [
    "''' \n",
    "Using only Wikipedia retriever\n",
    "'''\n",
    "from langchain_community.retrievers import WikipediaRetriever\n",
    "\n",
    "# retriever cell\n",
    "retriever = WikipediaRetriever()\n",
    "retriever.invoke(topic)"
   ]
  },
  {
   "cell_type": "code",
   "execution_count": null,
   "metadata": {},
   "outputs": [],
   "source": [
    "''' \n",
    "Using Agents to retrieve relevant information from Wikipedia\n",
    "'''\n",
    "from langchain.agents import AgentType, initialize_agent\n",
    "from langchain.agents import load_tools\n",
    "\n",
    "# Wikipedia tool agent\n",
    "tools = load_tools(\n",
    "                    [\"wikipedia\"], \n",
    "                    llm=llm\n",
    "                    )\n",
    "\n",
    "agent= initialize_agent(\n",
    "    tools,\n",
    "    llm,\n",
    "    agent=AgentType.CHAT_ZERO_SHOT_REACT_DESCRIPTION,\n",
    "    handle_parsing_errors=True,\n",
    "    verbose = True)\n",
    "\n",
    "agent(topic)"
   ]
  },
  {
   "cell_type": "markdown",
   "metadata": {},
   "source": [
    "#### Semantic Scholar\n",
    "Semantic Scholar uses natural language and machine learning to find relevant results across all disciplines, including biology, medicine, computer science, geography, business, history, and economics. It includes a scientific literature graph and billions of citations, and its corpus contains nearly 200 million academic papers from publisher partnerships, data providers, and web crawls."
   ]
  },
  {
   "cell_type": "code",
   "execution_count": null,
   "metadata": {},
   "outputs": [],
   "source": [
    "# ! pip install --upgrade --quiet  semanticscholar"
   ]
  },
  {
   "cell_type": "code",
   "execution_count": 38,
   "metadata": {},
   "outputs": [],
   "source": [
    "from langchain_community.tools.semanticscholar.tool import SemanticScholarQueryRun\n",
    "from langchain_community.utilities.semanticscholar import SemanticScholarAPIWrapper\n",
    "\n",
    "api_wrapper = SemanticScholarAPIWrapper(doc_content_chars_max=1000, top_k_results=5)\n",
    "tools = [SemanticScholarQueryRun(api_wrapper=api_wrapper)]"
   ]
  },
  {
   "cell_type": "code",
   "execution_count": 45,
   "metadata": {},
   "outputs": [],
   "source": [
    "''' \n",
    "Here for Semantic Scholar we're creating a Prompt to retrive more contectual information. In above case for Wikipedia we've not created any prompt if you check in tools.\n",
    "'''\n",
    "\n",
    "from langchain.agents import AgentExecutor, create_tool_calling_agent\n",
    "from langchain_core.prompts import ChatPromptTemplate, MessagesPlaceholder\n",
    "\n",
    "prompt = ChatPromptTemplate.from_messages(\n",
    "    [\n",
    "        (\n",
    "            \"system\",\n",
    "            \"You are an expert researcher.\",\n",
    "        ),\n",
    "        (\"human\", \"{input}\"),\n",
    "        MessagesPlaceholder(variable_name=\"agent_scratchpad\")\n",
    "    ]\n",
    ")\n",
    "\n",
    "\n",
    "agent_executor = initialize_agent(\n",
    "    tools=tools,\n",
    "    llm=llm,\n",
    "    agent=AgentType.OPENAI_MULTI_FUNCTIONS,\n",
    "    prompt=prompt,\n",
    "    verbose=True\n",
    ")"
   ]
  },
  {
   "cell_type": "code",
   "execution_count": 46,
   "metadata": {},
   "outputs": [
    {
     "name": "stdout",
     "output_type": "stream",
     "text": [
      "\n",
      "\n",
      "\u001b[1m> Entering new AgentExecutor chain...\u001b[0m\n",
      "\u001b[32;1m\u001b[1;3m\n",
      "Invoking: `semanticscholar` with `{'query': 'The impact of climate change on polar bear populations'}`\n",
      "\n",
      "\n",
      "\u001b[0m\u001b[36;1m\u001b[1;3mPublished year: 2016\n",
      "Title: Modelling the Impact of Climate Change on the Polar Bear Population in Western Hudson Bay\n",
      "Authors: Nicole Bastow\n",
      "Abstract: None\n",
      "\u001b[0m\u001b[32;1m\u001b[1;3m\n",
      "Invoking: `semanticscholar` with `{'query': 'The impact of climate change on polar bear populations'}`\n",
      "\n",
      "\n",
      "\u001b[0m\u001b[36;1m\u001b[1;3mPublished year: 2016\n",
      "Title: Modelling the Impact of Climate Change on the Polar Bear Population in Western Hudson Bay\n",
      "Authors: Nicole Bastow\n",
      "Abstract: None\n",
      "\u001b[0m\u001b[32;1m\u001b[1;3mI found a relevant paper on the impact of climate change on polar bear populations. Here are the details:\n",
      "\n",
      "### 1. List of Papers\n",
      "- **Title**: Modelling the Impact of Climate Change on the Polar Bear Population in Western Hudson Bay\n",
      "- **Authors**: Nicole Bastow\n",
      "- **Published Year**: 2016\n",
      "- **URL**: [Link to Paper](https://www.semanticscholar.org/paper/Modelling-the-Impact-of-Climate-Change-on-the-Bastow/)\n",
      "\n",
      "### 2. Summary of the Paper\n",
      "The paper discusses the modeling of the polar bear population in Western Hudson Bay in the context of climate change. It likely examines how changing environmental conditions, particularly the loss of sea ice due to warming temperatures, affect polar bear demographics, behavior, and survival rates. The study may utilize various ecological and statistical models to predict future population trends under different climate scenarios.\n",
      "\n",
      "### 3. Citations in the Paper\n",
      "Unfortunately, the specific citations used in this paper are not provided in the information retrieved. Typically, citations would include references to previous research on polar bear ecology, climate change impacts, and modeling techniques.\n",
      "\n",
      "If you need more papers or specific details, please let me know!\u001b[0m\n",
      "\n",
      "\u001b[1m> Finished chain.\u001b[0m\n"
     ]
    }
   ],
   "source": [
    "response = agent_executor.invoke(\n",
    "    {\n",
    "        \"input\": f\"\"\"query: {topic}, for each of the relevant paper that you find :Create 3 different sections: List of papers with url for it, summary of that paper and citations in that paper, do this for each paper   \"\"\"\n",
    "    }\n",
    ")"
   ]
  },
  {
   "cell_type": "markdown",
   "metadata": {},
   "source": [
    "#### Playwright Browser\n",
    "\n",
    "- Web Scraping: Automatically extract data from web pages, such as product prices, reviews, or contact information.\n",
    "- Web Testing: Automate testing of web applications by simulating user interactions and verifying expected outcomes.\n",
    "- Research: Gather information from various websites on a specific topic and summarize the findings.\n",
    "- Personal Automation: Automate tasks that involve interacting with web applications, such as checking email, managing social media, or booking appointments."
   ]
  },
  {
   "cell_type": "code",
   "execution_count": null,
   "metadata": {},
   "outputs": [
    {
     "data": {
      "text/plain": [
       "' \\nInstall below using Terminal\\n'"
      ]
     },
     "execution_count": 74,
     "metadata": {},
     "output_type": "execute_result"
    }
   ],
   "source": [
    "''' \n",
    "Install below using Terminal\n",
    "'''\n",
    "\n",
    "# ! pip install playwright beautifulsoup4\n",
    "# ! playwright install\n",
    "# sudo apt-get install libgstreamer-plugins-bad1.0-0 libavif16"
   ]
  },
  {
   "cell_type": "code",
   "execution_count": 1,
   "metadata": {},
   "outputs": [],
   "source": [
    "from langchain_community.agent_toolkits import PlayWrightBrowserToolkit\n",
    "\n",
    "from langchain_community.tools.playwright.utils import (\n",
    "    create_async_playwright_browser,  # A synchronous browser is available, though it isn't compatible with jupyter.\\n\",      },\n",
    ")\n",
    "import nest_asyncio\n",
    "\n",
    "nest_asyncio.apply()"
   ]
  },
  {
   "cell_type": "code",
   "execution_count": 2,
   "metadata": {},
   "outputs": [],
   "source": [
    "from langchain_community.agent_toolkits import PlayWrightBrowserToolkit\n",
    "from langchain_community.tools.playwright.utils import (\n",
    "    create_async_playwright_browser,  # A synchronous browser is available, though it isn't compatible with jupyter.\\n\",\t  },\n",
    ")\n",
    "# This import is required only for jupyter notebooks, since they have their own eventloop\n",
    "import nest_asyncio\n",
    "nest_asyncio.apply()"
   ]
  },
  {
   "cell_type": "code",
   "execution_count": 3,
   "metadata": {},
   "outputs": [
    {
     "data": {
      "text/plain": [
       "[ClickTool(async_browser=<Browser type=<BrowserType name=chromium executable_path=/home/varun/.cache/ms-playwright/chromium-1161/chrome-linux/chrome> version=134.0.6998.35>),\n",
       " NavigateTool(async_browser=<Browser type=<BrowserType name=chromium executable_path=/home/varun/.cache/ms-playwright/chromium-1161/chrome-linux/chrome> version=134.0.6998.35>),\n",
       " NavigateBackTool(async_browser=<Browser type=<BrowserType name=chromium executable_path=/home/varun/.cache/ms-playwright/chromium-1161/chrome-linux/chrome> version=134.0.6998.35>),\n",
       " ExtractTextTool(async_browser=<Browser type=<BrowserType name=chromium executable_path=/home/varun/.cache/ms-playwright/chromium-1161/chrome-linux/chrome> version=134.0.6998.35>),\n",
       " ExtractHyperlinksTool(async_browser=<Browser type=<BrowserType name=chromium executable_path=/home/varun/.cache/ms-playwright/chromium-1161/chrome-linux/chrome> version=134.0.6998.35>),\n",
       " GetElementsTool(async_browser=<Browser type=<BrowserType name=chromium executable_path=/home/varun/.cache/ms-playwright/chromium-1161/chrome-linux/chrome> version=134.0.6998.35>),\n",
       " CurrentWebPageTool(async_browser=<Browser type=<BrowserType name=chromium executable_path=/home/varun/.cache/ms-playwright/chromium-1161/chrome-linux/chrome> version=134.0.6998.35>)]"
      ]
     },
     "execution_count": 3,
     "metadata": {},
     "output_type": "execute_result"
    }
   ],
   "source": [
    "async_browser = create_async_playwright_browser()\n",
    "toolkit = PlayWrightBrowserToolkit.from_browser(async_browser=async_browser)\n",
    "tools = toolkit.get_tools()\n",
    "tools"
   ]
  },
  {
   "cell_type": "code",
   "execution_count": 9,
   "metadata": {},
   "outputs": [
    {
     "name": "stderr",
     "output_type": "stream",
     "text": [
      "/tmp/ipykernel_4890/1026851030.py:3: LangChainDeprecationWarning: LangChain agents will continue to be supported, but it is recommended for new use cases to be built with LangGraph. LangGraph offers a more flexible and full-featured framework for building agents, including support for tool-calling, persistence of state, and human-in-the-loop workflows. For details, refer to the `LangGraph documentation <https://langchain-ai.github.io/langgraph/>`_ as well as guides for `Migrating from AgentExecutor <https://python.langchain.com/docs/how_to/migrate_agent/>`_ and LangGraph's `Pre-built ReAct agent <https://langchain-ai.github.io/langgraph/how-tos/create-react-agent/>`_.\n",
      "  agent_chain = initialize_agent(\n"
     ]
    }
   ],
   "source": [
    "from langchain.agents import AgentType, initialize_agent\n",
    "\n",
    "agent_chain = initialize_agent(\n",
    "    tools,\n",
    "    llm,\n",
    "    agent=AgentType.STRUCTURED_CHAT_ZERO_SHOT_REACT_DESCRIPTION,\n",
    "    verbose=True,\n",
    "    handle_parsing_errors=True\n",
    ")"
   ]
  },
  {
   "cell_type": "code",
   "execution_count": 12,
   "metadata": {},
   "outputs": [
    {
     "name": "stderr",
     "output_type": "stream",
     "text": [
      "/tmp/ipykernel_4890/521848347.py:1: LangChainDeprecationWarning: The method `Chain.arun` was deprecated in langchain 0.1.0 and will be removed in 1.0. Use :meth:`~ainvoke` instead.\n",
      "  result = await agent_chain.arun(f\"\"\"find 5 artiles on \"{topic}\" and return the links for those articles and blogs\n"
     ]
    },
    {
     "name": "stdout",
     "output_type": "stream",
     "text": [
      "\n",
      "\n",
      "\u001b[1m> Entering new AgentExecutor chain...\u001b[0m\n",
      "\u001b[32;1m\u001b[1;3mThought: I need to search for articles related to \"The impact of climate change on polar bear populations\" and extract the top 5 relevant links without including Google URLs. I will navigate to a search engine and perform the search.\n",
      "\n",
      "Action:\n",
      "```json\n",
      "{\n",
      "  \"action\": \"navigate_browser\",\n",
      "  \"action_input\": \"https://www.bing.com/search?q=The+impact+of+climate+change+on+polar+bear+populations\"\n",
      "}\n",
      "```\n",
      "\u001b[0m\n",
      "Observation: \u001b[33;1m\u001b[1;3mNavigating to https://www.bing.com/search?q=The+impact+of+climate+change+on+polar+bear+populations returned status code 200\u001b[0m\n",
      "Thought:\u001b[32;1m\u001b[1;3mI need to extract the hyperlinks from the search results page to find articles related to \"The impact of climate change on polar bear populations.\"\n",
      "\n",
      "Action:\n",
      "```json\n",
      "{\n",
      "  \"action\": \"extract_hyperlinks\",\n",
      "  \"action_input\": {\"absolute_urls\": true}\n",
      "}\n",
      "```\n",
      "\n",
      "\u001b[0m\n",
      "Observation: \u001b[36;1m\u001b[1;3m[\"https://www.bing.com/search?q=The+impact+of+climate+change+on+polar+bear+populations&rdr=1&rdrig=C876BF055D7D453CB0A6A2189D4E058B&setlang=ur&sid=2866C65C4EEA629D2113D3E54F76634C\", \"https://www.bing.com/images\", \"javascript:\", \"https://www.bing.com/chat?q=The+impact+of+climate+change+on+polar+bear+populations&sendquery=1&form=HECODX\", \"https://www.bing.com/?FORM=Z9FD1\", \"https://www.bing.com/search?q=The+impact+of+climate+change+on+polar+bear+populations&rdr=1&rdrig=C876BF055D7D453CB0A6A2189D4E058B\", \"https://www.bing.com/search?q=The+impact+of+climate+change+on+polar+bear+populations&rdr=1&rdrig=C876BF055D7D453CB0A6A2189D4E058B&FPIG=8EB95C02463A404C80D50B503B2C56B6&first=6&FORM=PORE\", \"https://www.bing.com/images/search?q=The+impact+of+climate+change+on+polar+bear+populations&FORM=HDRSC3\", \"http://go.microsoft.com/fwlink/?LinkID=246338\", \"https://www.researchgate.net/publication/384644678_How_does_climate_change_impact_the_population_of_polar_bears_Environmental_threats_ecological_dynamics_and_conservation_efforts\", \"javascript:void(0)\", \"https://www.bing.com/travel/search?q=The+impact+of+climate+change+on+polar+bear+populations&m=travel&FORM=THSCOP\", \"https://www.bing.com/search?q=The+impact+of+climate+change+on+polar+bear+populations&filters=ex1%3a%22ez2%22&rdr=1&rdrig=C876BF055D7D453CB0A6A2189D4E058B&FORM=000017&qpvt=The+impact+of+climate+change+on+polar+bear+populations\", \"http://go.microsoft.com/fwlink/?LinkId=521839\", \"https://www.jstor.org/stable/43425778\", \"https://www.bing.com/videos/riverview/relatedvideo?q=The+impact+of+climate+change+on+polar+bear+populations&mid=BA47FA65D9CD11331757BA47FA65D9CD11331757&FORM=VIRE\", \"https://www.jstor.org/stable/20788114\", \"https://esajournals.onlinelibrary.wiley.com/doi/full/10.1890/09-1641.1\", \"https://www.bing.com/videos/riverview/relatedvideo?q=The+impact+of+climate+change+on+polar+bear+populations&mid=716F1E27385C375A291F716F1E27385C375A291F&FORM=VIRE\", \"https://pmc.ncbi.nlm.nih.gov/articles/PMC10361155/\", \"https://www.bing.com/search?q=Julia+Jacobo&FORM=FACTRE\", \"https://www.sciencedirect.com/science/article/pii/S0006320710001473\", \"https://www.bing.com/videos/search?q=The+impact+of+climate+change+on+polar+bear+populations&FORM=HDRSC4\", \"https://www.bing.com/search?q=The+impact+of+climate+change+on+polar+bear+populations&rdr=1&rdrig=C876BF055D7D453CB0A6A2189D4E058B&setlang=bn&sid=2866C65C4EEA629D2113D3E54F76634C\", \"https://www.bing.com/videos/riverview/relatedvideo?q=The+impact+of+climate+change+on+polar+bear+populations&mid=18C553DDE6A4E824950D18C553DDE6A4E824950D&FORM=VIRE\", \"http://go.microsoft.com/fwlink/?LinkID=617350\", \"https://www.bing.com/news/search?q=The+impact+of+climate+change+on+polar+bear+populations&FORM=HDRSC7\", \"https://www.bing.com/chat?q=The+impact+of+climate+change+on+polar+bear+populations&sendquery=1&FORM=SCCODX\", \"https://www.bing.com/visualsearch?FORM=SBILNM\", \"https://www.bing.com/travel/search?q=The+impact+of+climate+change+on+polar+bear+populations&m=flights&FORM=FBSCOP\", \"https://www.bing.com/images/search?view=detailV2&ccid=LbltDlfd&id=ECAB03FB77A7189CE39911AD8FF17CAE49D9ADAC&thid=OIP.LbltDlfdEcv3vlBJ9UZx4gHaEK&mediaurl=https://i.abcnewsfe.com/a/5bedff42-cba9-4d98-a584-8be84f2eb5c5/polar-bears-01-ht-jef-250130_1738251505512_hpMain_16x9.jpg?w=1600&q=The+impact+of+climate+change+on+polar+bear+populations&ck=F6ECE490E425A491B5E6C8A7D69E545D&idpp=rc&idpview=singleimage&form=rc2idp\", \"https://www.bing.com/search?q=The+impact+of+climate+change+on+polar+bear+populations&rdr=1&rdrig=C876BF055D7D453CB0A6A2189D4E058B&setlang=kn&sid=2866C65C4EEA629D2113D3E54F76634C\", \"https://www.bing.com/search?q=The+impact+of+climate+change+on+polar+bear+populations&rdr=1&rdrig=C876BF055D7D453CB0A6A2189D4E058B&setlang=ml&sid=2866C65C4EEA629D2113D3E54F76634C\", \"https://www.bing.com/search?q=The+impact+of+climate+change+on+polar+bear+populations&rdr=1&rdrig=C876BF055D7D453CB0A6A2189D4E058B&setlang=ta&sid=2866C65C4EEA629D2113D3E54F76634C\", \"https://www.bing.com/shop?q=The+impact+of+climate+change+on+polar+bear+populations&FORM=SHOPTB\", \"https://www.bing.com/search?q=The+impact+of+climate+change+on+polar+bear+populations&rdr=1&rdrig=C876BF055D7D453CB0A6A2189D4E058B&FPIG=8EB95C02463A404C80D50B503B2C56B6&first=6&FORM=PERE\", \"https://www.bing.com/search?q=The+impact+of+climate+change+on+polar+bear+populations&rdr=1&rdrig=C876BF055D7D453CB0A6A2189D4E058B&FORM=000017&qpvt=The+impact+of+climate+change+on+polar+bear+populations\", \"https://www.bing.com/search?q=The+impact+of+climate+change+on+polar+bear+populations&rdr=1&rdrig=C876BF055D7D453CB0A6A2189D4E058B&FPIG=8EB95C02463A404C80D50B503B2C56B6&first=16&FORM=PERE1\", \"https://www.bing.com/maps?q=The+impact+of+climate+change+on+polar+bear+populations&FORM=HDRSC6\", \"https://support.microsoft.com/topic/82d20721-2d6f-4012-a13d-d1910ccf203f\", \"https://www.bing.com/search?q=The+impact+of+climate+change+on+polar+bear+populations&rdr=1&rdrig=C876BF055D7D453CB0A6A2189D4E058B&setlang=gu&sid=2866C65C4EEA629D2113D3E54F76634C\", \"https://www.bing.com/videos/riverview/relatedvideo?q=The+impact+of+climate+change+on+polar+bear+populations&mid=A0C3163931E194570811A0C3163931E194570811&FORM=VIRE\", \"https://www.bing.com/search?q=The+impact+of+climate+change+on+polar+bear+populations&rdr=1&rdrig=C876BF055D7D453CB0A6A2189D4E058B&setlang=or&sid=2866C65C4EEA629D2113D3E54F76634C\", \"https://www.bing.com/search?shm=cr&form=DEEPSH\", \"https://www.bing.com/search?q=The+impact+of+climate+change+on+polar+bear+populations&rdr=1&rdrig=C876BF055D7D453CB0A6A2189D4E058B&setlang=te&sid=2866C65C4EEA629D2113D3E54F76634C\", \"https://www.researchgate.net/publication/23184499_Effects_of_Climate_Change_on_Polar_Bears\", \"https://www.bing.com/videos/riverview/relatedvideo?q=The+impact+of+climate+change+on+polar+bear+populations&mid=51606C38ADCFFAC476FB51606C38ADCFFAC476FB&FORM=VIRE\", \"https://www.bing.com/images/search?view=detailV2&ccid=FChMEfZ0&id=D7359D146E34CE982FA3D09FB4F504A766137E3C&thid=OIP.FChMEfZ0rIrrnuhRfqt2iwHaLX&mediaurl=https://i1.rgstatic.net/publication/23184499_Effects_of_Climate_Change_on_Polar_Bears/links/02e7e5375c680c84cf000000/largepreview.png&q=The+impact+of+climate+change+on+polar+bear+populations&ck=28A91B4F59849FC145FFB605B9FEA408&idpp=rc&idpview=singleimage&form=rc2idp\", \"https://www.bing.com/?scope=web&FORM=HDRSC1\", \"https://go.microsoft.com/fwlink/?linkid=868922\", \"https://abcnews.go.com/US/climate-change-impacted-polar-bear-populations/story?id=118217343\", \"javascript:void(0);\", \"https://www.bing.com/search?q=The+impact+of+climate+change+on+polar+bear+populations&rdr=1&rdrig=C876BF055D7D453CB0A6A2189D4E058B&setlang=mr&sid=2866C65C4EEA629D2113D3E54F76634C\", \"https://www.bing.com/search?q=The+impact+of+climate+change+on+polar+bear+populations&filters=ex1%3a%22ez5_19806_20171%22&rdr=1&rdrig=C876BF055D7D453CB0A6A2189D4E058B&FORM=000017\", \"https://www.bing.com/search?q=The+impact+of+climate+change+on+polar+bear+populations&rdr=1&rdrig=C876BF055D7D453CB0A6A2189D4E058B&setlang=hi&sid=2866C65C4EEA629D2113D3E54F76634C\", \"https://www.bing.com/videos/search?q=The+impact+of+climate+change+on+polar+bear+populations&qpvt=The+impact+of+climate+change+on+polar+bear+populations&FORM=VDRE\", \"https://www.bing.com/copilotsearch?q=The+impact+of+climate+change+on+polar+bear+populations&FORM=CSSCOP\", \"https://www.bing.com/travel/search?q=The+impact+of+climate+change+on+polar+bear+populations&m=hotels&FORM=HTSCOP\", \"https://www.bing.com/search?q=The+impact+of+climate+change+on+polar+bear+populations&filters=ex1%3a%22ez3%22&rdr=1&rdrig=C876BF055D7D453CB0A6A2189D4E058B&FORM=000017&qpvt=The+impact+of+climate+change+on+polar+bear+populations\", \"https://www.bing.com/search?q=The+impact+of+climate+change+on+polar+bear+populations&rdr=1&rdrig=C876BF055D7D453CB0A6A2189D4E058B&FPIG=8EB95C02463A404C80D50B503B2C56B6&first=26&FORM=PERE2\", \"https://www.bing.com/search?q=The+impact+of+climate+change+on+polar+bear+populations&rdr=1&rdrig=C876BF055D7D453CB0A6A2189D4E058B&setlang=pa-guru&sid=2866C65C4EEA629D2113D3E54F76634C\", \"https://www.bing.com/search?q=The+impact+of+climate+change+on+polar+bear+populations&filters=ex1%3a%22ez1%22&rdr=1&rdrig=C876BF055D7D453CB0A6A2189D4E058B&FORM=000017&qpvt=The+impact+of+climate+change+on+polar+bear+populations\"]\u001b[0m\n",
      "Thought:\u001b[32;1m\u001b[1;3mI need to filter the extracted hyperlinks to find the top 5 relevant articles on \"The impact of climate change on polar bear populations\" while excluding any Google URLs. \n",
      "\n",
      "Action:\n",
      "```json\n",
      "{\n",
      "  \"action\": \"extract_hyperlinks\",\n",
      "  \"action_input\": {\"absolute_urls\": true}\n",
      "}\n",
      "```\n",
      "\n",
      "\u001b[0m\n",
      "Observation: \u001b[36;1m\u001b[1;3m[\"https://www.bing.com/search?q=The+impact+of+climate+change+on+polar+bear+populations&rdr=1&rdrig=C876BF055D7D453CB0A6A2189D4E058B&setlang=ur&sid=2866C65C4EEA629D2113D3E54F76634C\", \"https://www.bing.com/images\", \"javascript:\", \"https://www.bing.com/chat?q=The+impact+of+climate+change+on+polar+bear+populations&sendquery=1&form=HECODX\", \"https://www.bing.com/?FORM=Z9FD1\", \"https://www.bing.com/search?q=The+impact+of+climate+change+on+polar+bear+populations&rdr=1&rdrig=C876BF055D7D453CB0A6A2189D4E058B\", \"https://www.bing.com/search?q=The+impact+of+climate+change+on+polar+bear+populations&rdr=1&rdrig=C876BF055D7D453CB0A6A2189D4E058B&FPIG=8EB95C02463A404C80D50B503B2C56B6&first=6&FORM=PORE\", \"https://www.bing.com/images/search?q=The+impact+of+climate+change+on+polar+bear+populations&FORM=HDRSC3\", \"http://go.microsoft.com/fwlink/?LinkID=246338\", \"https://www.researchgate.net/publication/384644678_How_does_climate_change_impact_the_population_of_polar_bears_Environmental_threats_ecological_dynamics_and_conservation_efforts\", \"javascript:void(0)\", \"https://www.bing.com/travel/search?q=The+impact+of+climate+change+on+polar+bear+populations&m=travel&FORM=THSCOP\", \"https://www.bing.com/search?q=The+impact+of+climate+change+on+polar+bear+populations&filters=ex1%3a%22ez2%22&rdr=1&rdrig=C876BF055D7D453CB0A6A2189D4E058B&FORM=000017&qpvt=The+impact+of+climate+change+on+polar+bear+populations\", \"http://go.microsoft.com/fwlink/?LinkId=521839\", \"https://www.jstor.org/stable/43425778\", \"https://www.bing.com/videos/riverview/relatedvideo?q=The+impact+of+climate+change+on+polar+bear+populations&mid=BA47FA65D9CD11331757BA47FA65D9CD11331757&FORM=VIRE\", \"https://www.jstor.org/stable/20788114\", \"https://esajournals.onlinelibrary.wiley.com/doi/full/10.1890/09-1641.1\", \"https://www.bing.com/videos/riverview/relatedvideo?q=The+impact+of+climate+change+on+polar+bear+populations&mid=716F1E27385C375A291F716F1E27385C375A291F&FORM=VIRE\", \"https://pmc.ncbi.nlm.nih.gov/articles/PMC10361155/\", \"https://www.bing.com/search?q=Julia+Jacobo&FORM=FACTRE\", \"https://www.sciencedirect.com/science/article/pii/S0006320710001473\", \"https://www.bing.com/videos/search?q=The+impact+of+climate+change+on+polar+bear+populations&FORM=HDRSC4\", \"https://www.bing.com/search?q=The+impact+of+climate+change+on+polar+bear+populations&rdr=1&rdrig=C876BF055D7D453CB0A6A2189D4E058B&setlang=bn&sid=2866C65C4EEA629D2113D3E54F76634C\", \"https://www.bing.com/videos/riverview/relatedvideo?q=The+impact+of+climate+change+on+polar+bear+populations&mid=18C553DDE6A4E824950D18C553DDE6A4E824950D&FORM=VIRE\", \"http://go.microsoft.com/fwlink/?LinkID=617350\", \"https://www.bing.com/news/search?q=The+impact+of+climate+change+on+polar+bear+populations&FORM=HDRSC7\", \"https://www.bing.com/chat?q=The+impact+of+climate+change+on+polar+bear+populations&sendquery=1&FORM=SCCODX\", \"https://www.bing.com/visualsearch?FORM=SBILNM\", \"https://www.bing.com/travel/search?q=The+impact+of+climate+change+on+polar+bear+populations&m=flights&FORM=FBSCOP\", \"https://www.bing.com/images/search?view=detailV2&ccid=LbltDlfd&id=ECAB03FB77A7189CE39911AD8FF17CAE49D9ADAC&thid=OIP.LbltDlfdEcv3vlBJ9UZx4gHaEK&mediaurl=https://i.abcnewsfe.com/a/5bedff42-cba9-4d98-a584-8be84f2eb5c5/polar-bears-01-ht-jef-250130_1738251505512_hpMain_16x9.jpg?w=1600&q=The+impact+of+climate+change+on+polar+bear+populations&ck=F6ECE490E425A491B5E6C8A7D69E545D&idpp=rc&idpview=singleimage&form=rc2idp\", \"https://www.bing.com/search?q=The+impact+of+climate+change+on+polar+bear+populations&rdr=1&rdrig=C876BF055D7D453CB0A6A2189D4E058B&setlang=kn&sid=2866C65C4EEA629D2113D3E54F76634C\", \"https://www.bing.com/search?q=The+impact+of+climate+change+on+polar+bear+populations&rdr=1&rdrig=C876BF055D7D453CB0A6A2189D4E058B&setlang=ml&sid=2866C65C4EEA629D2113D3E54F76634C\", \"https://www.bing.com/search?q=The+impact+of+climate+change+on+polar+bear+populations&rdr=1&rdrig=C876BF055D7D453CB0A6A2189D4E058B&setlang=ta&sid=2866C65C4EEA629D2113D3E54F76634C\", \"https://www.bing.com/shop?q=The+impact+of+climate+change+on+polar+bear+populations&FORM=SHOPTB\", \"https://www.bing.com/search?q=The+impact+of+climate+change+on+polar+bear+populations&rdr=1&rdrig=C876BF055D7D453CB0A6A2189D4E058B&FPIG=8EB95C02463A404C80D50B503B2C56B6&first=6&FORM=PERE\", \"https://www.bing.com/search?q=The+impact+of+climate+change+on+polar+bear+populations&rdr=1&rdrig=C876BF055D7D453CB0A6A2189D4E058B&FORM=000017&qpvt=The+impact+of+climate+change+on+polar+bear+populations\", \"https://www.bing.com/search?q=The+impact+of+climate+change+on+polar+bear+populations&rdr=1&rdrig=C876BF055D7D453CB0A6A2189D4E058B&FPIG=8EB95C02463A404C80D50B503B2C56B6&first=16&FORM=PERE1\", \"https://www.bing.com/maps?q=The+impact+of+climate+change+on+polar+bear+populations&FORM=HDRSC6\", \"https://support.microsoft.com/topic/82d20721-2d6f-4012-a13d-d1910ccf203f\", \"https://www.bing.com/search?q=The+impact+of+climate+change+on+polar+bear+populations&rdr=1&rdrig=C876BF055D7D453CB0A6A2189D4E058B&setlang=gu&sid=2866C65C4EEA629D2113D3E54F76634C\", \"https://www.bing.com/videos/riverview/relatedvideo?q=The+impact+of+climate+change+on+polar+bear+populations&mid=A0C3163931E194570811A0C3163931E194570811&FORM=VIRE\", \"https://www.bing.com/search?q=The+impact+of+climate+change+on+polar+bear+populations&rdr=1&rdrig=C876BF055D7D453CB0A6A2189D4E058B&setlang=or&sid=2866C65C4EEA629D2113D3E54F76634C\", \"https://www.bing.com/search?shm=cr&form=DEEPSH\", \"https://www.bing.com/search?q=The+impact+of+climate+change+on+polar+bear+populations&rdr=1&rdrig=C876BF055D7D453CB0A6A2189D4E058B&setlang=te&sid=2866C65C4EEA629D2113D3E54F76634C\", \"https://www.researchgate.net/publication/23184499_Effects_of_Climate_Change_on_Polar_Bears\", \"https://www.bing.com/videos/riverview/relatedvideo?q=The+impact+of+climate+change+on+polar+bear+populations&mid=51606C38ADCFFAC476FB51606C38ADCFFAC476FB&FORM=VIRE\", \"https://www.bing.com/images/search?view=detailV2&ccid=FChMEfZ0&id=D7359D146E34CE982FA3D09FB4F504A766137E3C&thid=OIP.FChMEfZ0rIrrnuhRfqt2iwHaLX&mediaurl=https://i1.rgstatic.net/publication/23184499_Effects_of_Climate_Change_on_Polar_Bears/links/02e7e5375c680c84cf000000/largepreview.png&q=The+impact+of+climate+change+on+polar+bear+populations&ck=28A91B4F59849FC145FFB605B9FEA408&idpp=rc&idpview=singleimage&form=rc2idp\", \"https://www.bing.com/?scope=web&FORM=HDRSC1\", \"https://go.microsoft.com/fwlink/?linkid=868922\", \"https://abcnews.go.com/US/climate-change-impacted-polar-bear-populations/story?id=118217343\", \"javascript:void(0);\", \"https://www.bing.com/search?q=The+impact+of+climate+change+on+polar+bear+populations&rdr=1&rdrig=C876BF055D7D453CB0A6A2189D4E058B&setlang=mr&sid=2866C65C4EEA629D2113D3E54F76634C\", \"https://www.bing.com/search?q=The+impact+of+climate+change+on+polar+bear+populations&filters=ex1%3a%22ez5_19806_20171%22&rdr=1&rdrig=C876BF055D7D453CB0A6A2189D4E058B&FORM=000017\", \"https://www.bing.com/search?q=The+impact+of+climate+change+on+polar+bear+populations&rdr=1&rdrig=C876BF055D7D453CB0A6A2189D4E058B&setlang=hi&sid=2866C65C4EEA629D2113D3E54F76634C\", \"https://www.bing.com/videos/search?q=The+impact+of+climate+change+on+polar+bear+populations&qpvt=The+impact+of+climate+change+on+polar+bear+populations&FORM=VDRE\", \"https://www.bing.com/copilotsearch?q=The+impact+of+climate+change+on+polar+bear+populations&FORM=CSSCOP\", \"https://www.bing.com/travel/search?q=The+impact+of+climate+change+on+polar+bear+populations&m=hotels&FORM=HTSCOP\", \"https://www.bing.com/search?q=The+impact+of+climate+change+on+polar+bear+populations&filters=ex1%3a%22ez3%22&rdr=1&rdrig=C876BF055D7D453CB0A6A2189D4E058B&FORM=000017&qpvt=The+impact+of+climate+change+on+polar+bear+populations\", \"https://www.bing.com/search?q=The+impact+of+climate+change+on+polar+bear+populations&rdr=1&rdrig=C876BF055D7D453CB0A6A2189D4E058B&FPIG=8EB95C02463A404C80D50B503B2C56B6&first=26&FORM=PERE2\", \"https://www.bing.com/search?q=The+impact+of+climate+change+on+polar+bear+populations&rdr=1&rdrig=C876BF055D7D453CB0A6A2189D4E058B&setlang=pa-guru&sid=2866C65C4EEA629D2113D3E54F76634C\", \"https://www.bing.com/search?q=The+impact+of+climate+change+on+polar+bear+populations&filters=ex1%3a%22ez1%22&rdr=1&rdrig=C876BF055D7D453CB0A6A2189D4E058B&FORM=000017&qpvt=The+impact+of+climate+change+on+polar+bear+populations\"]\u001b[0m\n",
      "Thought:\u001b[32;1m\u001b[1;3mI need to filter the extracted hyperlinks to find the top 5 relevant articles on \"The impact of climate change on polar bear populations\" while excluding any Google URLs. \n",
      "\n",
      "Action:\n",
      "```json\n",
      "{\n",
      "  \"action\": \"Final Answer\",\n",
      "  \"action_input\": [\n",
      "    {\n",
      "      \"title\": \"How does climate change impact the population of polar bears? Environmental threats, ecological dynamics, and conservation efforts\",\n",
      "      \"url\": \"https://www.researchgate.net/publication/384644678_How_does_climate_change_impact_the_population_of_polar_bears_Environmental_threats_ecological_dynamics_and_conservation_efforts\"\n",
      "    },\n",
      "    {\n",
      "      \"title\": \"Effects of Climate Change on Polar Bears\",\n",
      "      \"url\": \"https://www.researchgate.net/publication/23184499_Effects_of_Climate_Change_on_Polar_Bears\"\n",
      "    },\n",
      "    {\n",
      "      \"title\": \"Climate Change Impact on Polar Bear Populations\",\n",
      "      \"url\": \"https://abcnews.go.com/US/climate-change-impacted-polar-bear-populations/story?id=118217343\"\n",
      "    },\n",
      "    {\n",
      "      \"title\": \"The Polar Bear Conservation Strategy\",\n",
      "      \"url\": \"https://www.jstor.org/stable/43425778\"\n",
      "    },\n",
      "    {\n",
      "      \"title\": \"Climate Change and Polar Bears: A Review\",\n",
      "      \"url\": \"https://esajournals.onlinelibrary.wiley.com/doi/full/10.1890/09-1641.1\"\n",
      "    }\n",
      "  ]\n",
      "}\n",
      "```\n",
      "\n",
      "\u001b[0m\n",
      "\n",
      "\u001b[1m> Finished chain.\u001b[0m\n",
      "[{'title': 'How does climate change impact the population of polar bears? Environmental threats, ecological dynamics, and conservation efforts', 'url': 'https://www.researchgate.net/publication/384644678_How_does_climate_change_impact_the_population_of_polar_bears_Environmental_threats_ecological_dynamics_and_conservation_efforts'}, {'title': 'Effects of Climate Change on Polar Bears', 'url': 'https://www.researchgate.net/publication/23184499_Effects_of_Climate_Change_on_Polar_Bears'}, {'title': 'Climate Change Impact on Polar Bear Populations', 'url': 'https://abcnews.go.com/US/climate-change-impacted-polar-bear-populations/story?id=118217343'}, {'title': 'The Polar Bear Conservation Strategy', 'url': 'https://www.jstor.org/stable/43425778'}, {'title': 'Climate Change and Polar Bears: A Review', 'url': 'https://esajournals.onlinelibrary.wiley.com/doi/full/10.1890/09-1641.1'}]\n"
     ]
    }
   ],
   "source": [
    "result = await agent_chain.arun(f\"\"\"find 5 artiles on \"{topic}\" and return the links for those articles and blogs\n",
    "You dont have to return all the links or urls just get the top 5 urls other than google urls and return it with article name. dont go in as loop of finding and filtering urls \"\"\")\n",
    "print(result)"
   ]
  },
  {
   "cell_type": "markdown",
   "metadata": {},
   "source": [
    "#### PubMed\n",
    "* PubMed is a free, searchable database of citations and abstracts for biomedical and life sciences literature created by the National Library of Medicine (NLM). It contains over 37 million citations and abstracts from more than 5,600 journals in 30 languages, dating back to 1946. PubMed covers journal articles in medicine, nursing, dentistry, veterinary medicine, and the health care system."
   ]
  },
  {
   "cell_type": "code",
   "execution_count": 14,
   "metadata": {},
   "outputs": [],
   "source": [
    "from langchain_community.retrievers import PubMedRetriever\n",
    "retriever = PubMedRetriever()"
   ]
  },
  {
   "cell_type": "code",
   "execution_count": 18,
   "metadata": {},
   "outputs": [
    {
     "data": {
      "text/plain": [
       "[Document(metadata={'uid': '39929952', 'Title': 'Model sensitivity limits attribution of greenhouse gas emissions to polar bear demographic rates.', 'Published': '2025-02-10', 'Copyright Information': '© 2025. This is a U.S. Government work and not under copyright protection in the US; foreign copyright protection may apply.'}, page_content='Greenhouse gas emissions continue to increase and negatively affect sea ice conditions that polar bears rely on. It is therefore important to better understand how specific emissions levels affect polar bear demography. A recent study proposed a framework to address this issue, but sensitivity to decisions rules of the approach may limit its utility. We tested how sensitive the approach is to decisions rules related to sea ice concentration, choice of subpopulation boundaries, and modeling choices for bears in the Chukchi Sea and Southern Beaufort Sea subpopulations. We found that the number of ice-free days, number of fasting days, and when 10% of reproductive females exhibited recruitment failure varied considerably depending on equally-valid decisions rules versus those used in the existing study. Whereas the previous study suggested that both subpopulations surpassed the critical number of ice-free days that negatively affect recruitment, we found this threshold was never reached by the Southern Beaufort Sea subpopulation and only once for the Chukchi Sea subpopulation for the decision rules we considered. Our results suggest that the previously published approach is too sensitive to modeling assumptions and choice of decision rules to accurately evaluate the impacts of GHG emissions on polar bear demographic rates.'),\n",
       " Document(metadata={'uid': '39814600', 'Title': 'Ecological and anthropogenic drivers of local extinction and colonization of giant pandas over the past 30\\u2009years.', 'Published': '--', 'Copyright Information': '© 2025 The Ecological Society of America.'}, page_content=\"2\\nUnderstanding the patterns and drivers of species range shifts is essential to disentangle mechanisms driving species' responses to global change. Here, we quantified local extinction and colonization dynamics of giant pandas (Ailuropoda melanoleuca) using occurrence data collected by harnessing the labor of >1000 workers and >60,000 worker days for each of the three periods (TP1: 1985-1988, TP2: 1998-2002, and TP3: 2011-2014), and evaluated how these patterns were associated with (1) protected area, (2) local rarity/abundance, and (3) abiotic factors (i.e., climate, land-use, and topography). We documented a decreased rate (from 0.433 during TP1-TP2 to 0.317 during TP2-TP3) of local extinction and a relatively stable rate (from 0.060 during TP1-TP2 to 0.056 during TP2-TP3) of local colonization through time. Furthermore, the occupancy gains have exceeded losses by a ratio of approximately 1.5 to 1, illustrating an expansion of panda's range at a rate of 1408.3\\u2009km/decade. We also found that pandas were more likely to become locally extinct outside of protected areas, when locally rare in surrounding areas, and when certain biotic conditions were not met (e.g., increased forest cover). Local colonization was less likely in areas with high local rarity, challenging biotic conditions and unprotected area status. As the network of panda reserves expanded and the forest matured, the relative importance of other factors such as climate, biotic factors, and land-use became more influential in determining patterns of local extinction and colonization. Our findings provide insights into the factors governing the expansion of panda's range and illustrate how the relative influence of biotic and abiotic factors can change over time, indicating that effective conservation intervention may be able to mitigate some of the negative impacts of climate change and habitat degradation. This insight extends beyond pandas and highlights the role of conservation interventions can play in building resilience under a changing climate.\"),\n",
       " Document(metadata={'uid': '39565828', 'Title': 'Distinct fecal microbiome between wild and habitat-housed captive polar bears (Ursus maritimus): Impacts of captivity and dietary shifts.', 'Published': '2024-11-20', 'Copyright Information': 'Copyright: © 2024 Lu et al. This is an open access article distributed under the terms of the Creative Commons Attribution License, which permits unrestricted use, distribution, and reproduction in any medium, provided the original author and source are credited.'}, page_content='Understanding the gut microbiome of polar bears can shed light on the effects of climate change-induced prolonged ice-free seasons on their health and nutritional status as a sentinel species. The fecal microbiome of habitat-housed captive polar bears who had consumed a high protein diet long-term was compared with that of the wild population. Individual differences, season, year and dietary inclusion of a brown seaweed (Fucus spiralis; part of the natural diet of wild polar bears), as a representation for nutritional change, were investigated for their effects on the fecal microbiome of captive polar bears. Microbial variations among fecal samples from wild and captive polar bears were investigated using 16s rRNA gene based metataxonomic profiling. The captive bears exhibited more diverse fecal microbiota than wild bears (p<0.05). The difference was due to significantly increased Firmicutes, Campilobacterota and Fusobacteriota, decreased Actinobacteriota (p<0.05), and absent Bdellovibrionota and Verrucomicrobiota in the captive bears. Compared with other factors, individual variation was the main driver of differences in fecal microbial composition in the captive bears. Seaweed consumption did not alter microbial diversity or composition, but this did not rule out dietary influences on the hosts. This is the first study, to the best of our knowledge, comparing the fecal microbiota of captive and wild polar bears and it reveals distinct differences between the two groups, which could result from many factors, including available food sources and the ratio of dietary macronutrients. Our findings provide preliminary insights into climate-change induced dietary shifts in polar bears related to climate-associated habitat change.')]"
      ]
     },
     "execution_count": 18,
     "metadata": {},
     "output_type": "execute_result"
    }
   ],
   "source": [
    "retriever.invoke(topic)"
   ]
  },
  {
   "cell_type": "code",
   "execution_count": 19,
   "metadata": {},
   "outputs": [
    {
     "data": {
      "text/plain": [
       "\"Published: 2025-02-10\\nTitle: Model sensitivity limits attribution of greenhouse gas emissions to polar bear demographic rates.\\nCopyright Information: © 2025. This is a U.S. Government work and not under copyright protection in the US; foreign copyright protection may apply.\\nSummary::\\nGreenhouse gas emissions continue to increase and negatively affect sea ice conditions that polar bears rely on. It is therefore important to better understand how specific emissions levels affect polar bear demography. A recent study proposed a framework to address this issue, but sensitivity to decisions rules of the approach may limit its utility. We tested how sensitive the approach is to decisions rules related to sea ice concentration, choice of subpopulation boundaries, and modeling choices for bears in the Chukchi Sea and Southern Beaufort Sea subpopulations. We found that the number of ice-free days, number of fasting days, and when 10% of reproductive females exhibited recruitment failure varied considerably depending on equally-valid decisions rules versus those used in the existing study. Whereas the previous study suggested that both subpopulations surpassed the critical number of ice-free days that negatively affect recruitment, we found this threshold was never reached by the Southern Beaufort Sea subpopulation and only once for the Chukchi Sea subpopulation for the decision rules we considered. Our results suggest that the previously published approach is too sensitive to modeling assumptions and choice of decision rules to accurately evaluate the impacts of GHG emissions on polar bear demographic rates.\\n\\nPublished: --\\nTitle: Ecological and anthropogenic drivers of local extinction and colonization of giant pandas over the past 30\\u2009years.\\nCopyright Information: © 2025 The Ecological Society of America.\\nSummary::\\n2\\nUnderstanding the patterns and drivers of species range shifts is essential to disentangle mechanisms driving species' responses to global change. Here, we quan\""
      ]
     },
     "execution_count": 19,
     "metadata": {},
     "output_type": "execute_result"
    }
   ],
   "source": [
    "from langchain_community.tools.pubmed.tool import PubmedQueryRun\n",
    "tool = PubmedQueryRun()\n",
    "\n",
    "tool.invoke(topic)"
   ]
  },
  {
   "cell_type": "code",
   "execution_count": 23,
   "metadata": {},
   "outputs": [],
   "source": [
    "tools = load_tools([\"pubmed\"], llm=llm)\n",
    "agent= initialize_agent(\n",
    "    tools,\n",
    "    llm,\n",
    "    agent=AgentType.CHAT_ZERO_SHOT_REACT_DESCRIPTION,\n",
    "    handle_parsing_errors=True,\n",
    "    verbose = True)\n",
    "\n",
    "# agent(topic)"
   ]
  },
  {
   "cell_type": "markdown",
   "metadata": {},
   "source": [
    "#### Human as a Tool\n",
    "* Human are AGI so they can certainly be used as a tool to help out AI agent when it is confused, or even for approvals sometimes.\n",
    "\n",
    "* The agent can ben armed with an extensive array of tools to use in order to answer the question. And one of those tools, or actions can be a Human, hence the agent follows a Human-In-The-Loop approach or as some referred to it, Human as a Tool."
   ]
  },
  {
   "cell_type": "code",
   "execution_count": 24,
   "metadata": {},
   "outputs": [],
   "source": [
    "# from langchain.agents import AgentType, initialize_agent, load_tools\n",
    "\n",
    "#Simple function for looped inpt\n",
    "def get_input() -> str:\n",
    "    print(\"Insert your text. Enter 'q' to end.\")\n",
    "    contents = []\n",
    "    while True:\n",
    "        try:\n",
    "            line = input()\n",
    "        except EOFError:\n",
    "            break\n",
    "        if line == \"q\":\n",
    "            break\n",
    "        contents.append(line)\n",
    "    return \"\\n\".join(contents)\n",
    "\n",
    "human_tool = load_tools([\"human\"], llm=llm, input_func=get_input)"
   ]
  },
  {
   "cell_type": "code",
   "execution_count": 25,
   "metadata": {},
   "outputs": [],
   "source": [
    "human_agent_chain = initialize_agent(\n",
    "    human_tool,\n",
    "    llm,\n",
    "    agent=AgentType.ZERO_SHOT_REACT_DESCRIPTION,\n",
    "    verbose=True,\n",
    "    handle_parsing_errors=True\n",
    ")"
   ]
  },
  {
   "cell_type": "code",
   "execution_count": 26,
   "metadata": {},
   "outputs": [
    {
     "name": "stderr",
     "output_type": "stream",
     "text": [
      "/tmp/ipykernel_4890/4281521762.py:1: LangChainDeprecationWarning: The method `Chain.run` was deprecated in langchain 0.1.0 and will be removed in 1.0. Use :meth:`~invoke` instead.\n",
      "  human_agent_chain.run(\"I need help finding who said the quote. just reply with the name of the person who said the quote .\")\n"
     ]
    },
    {
     "name": "stdout",
     "output_type": "stream",
     "text": [
      "\n",
      "\n",
      "\u001b[1m> Entering new AgentExecutor chain...\u001b[0m\n",
      "\u001b[32;1m\u001b[1;3mI need to know the specific quote in question to identify the person who said it. \n",
      "Action: human\n",
      "Action Input: Can you provide the quote you need help with? \u001b[0m\n",
      "\n",
      "Can you provide the quote you need help with?\n",
      "Insert your text. Enter 'q' to end.\n",
      "\n",
      "Observation: \u001b[36;1m\u001b[1;3msare jga se acha hindustan hmara\u001b[0m\n",
      "Thought:\u001b[32;1m\u001b[1;3mThe quote \"sare jga se acha hindustan hmara\" translates to \"Our India is better than all other places.\" This quote is attributed to the famous Indian poet and philosopher, **Allama Iqbal**. \n",
      "\n",
      "Final Answer: Allama Iqbal\u001b[0m\n",
      "\n",
      "\u001b[1m> Finished chain.\u001b[0m\n"
     ]
    },
    {
     "data": {
      "text/plain": [
       "'Allama Iqbal'"
      ]
     },
     "execution_count": 26,
     "metadata": {},
     "output_type": "execute_result"
    }
   ],
   "source": [
    "human_agent_chain.run(\"I need help finding who said the quote. just reply with the name of the person who said the quote .\")"
   ]
  },
  {
   "cell_type": "markdown",
   "metadata": {},
   "source": [
    "### Building out final Agent"
   ]
  },
  {
   "cell_type": "code",
   "execution_count": 2,
   "metadata": {},
   "outputs": [],
   "source": [
    "\n",
    "human_ideas=\"\"\n",
    "def generate_research_insights_with_human_input(topic):\n",
    "    # Step 1: Get the initial research ideas and queries from the LLM\n",
    "    llm_response = sequential_chain.run(topic)\n",
    "    print(\"LLM Response:\\n\", llm_response)\n",
    "\n",
    "    # Step 2: Ask the user for additional input\n",
    "    human_ideas = human_agent_chain.run(human_agent_prompt)\n",
    "    print(\"Human Response:\\n\", human_ideas)\n",
    "\n",
    "    # Combine LLM output with human input\n",
    "    combined_response = f\"{llm_response}\\n\\nAdditional Ideas and Queries from Human Input:\\n{human_ideas}\"\n",
    "\n",
    "    return combined_response\n",
    "\n",
    "# Example usage\n",
    "topic = \"The impact of climate change on polar bear populations\"\n",
    "human_agent_prompt=\"\"\"your only job is to take user input and clean it, sanitize it for spelling mistakes , remove special characters and return the inputs.\n",
    " you dont need to do anything else. just return the cleaned output in one step. you just have to take the user input once not more than that\"\"\"\n",
    "\n",
    "# result = generate_research_insights_with_human_input(topic)\n",
    "# print(result)"
   ]
  },
  {
   "cell_type": "markdown",
   "metadata": {},
   "source": [
    "-  instead of apending the input you can pass it back to the llm for more refinement in the ideas"
   ]
  },
  {
   "cell_type": "code",
   "execution_count": null,
   "metadata": {},
   "outputs": [],
   "source": []
  }
 ],
 "metadata": {
  "kernelspec": {
   "display_name": ".venv",
   "language": "python",
   "name": "python3"
  },
  "language_info": {
   "codemirror_mode": {
    "name": "ipython",
    "version": 3
   },
   "file_extension": ".py",
   "mimetype": "text/x-python",
   "name": "python",
   "nbconvert_exporter": "python",
   "pygments_lexer": "ipython3",
   "version": "3.12.3"
  }
 },
 "nbformat": 4,
 "nbformat_minor": 2
}
